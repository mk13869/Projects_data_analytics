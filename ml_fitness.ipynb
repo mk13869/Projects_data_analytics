{
 "cells": [
  {
   "cell_type": "markdown",
   "metadata": {},
   "source": [
    "# Разработка стратегии взаимодействия с клиентами сети фитнес-центров  для их удержания"
   ]
  },
  {
   "cell_type": "markdown",
   "metadata": {},
   "source": [
    "Задача — провести анализ и подготовить план действий по удержанию клиентов фитнес-центра.  \n",
    "\n"
   ]
  },
  {
   "cell_type": "markdown",
   "metadata": {},
   "source": [
    "[1  Загрузка и исследовательский анализ данных (EDA)](#1)   \n",
    "[2  Построение модели прогнозирования оттока клиентов](#2)  \n",
    "[2.1  Логистическая регрессия](#2.1)   \n",
    "[2.2  Случайный лес](#2.2)   \n",
    "[3  Кластеризация клиентов](#3)   \n",
    "[3.1  Дендрограмма](#3.1)   \n",
    "[3.2  Модель кластеризации на основании алгоритма K-Means](#3.2)   \n",
    "[4  Выводы и рекомендации](#4)   \n",
    " "
   ]
  },
  {
   "cell_type": "markdown",
   "metadata": {},
   "source": [
    "## Загрузка и исследовательский анализ данных (EDA)\n",
    "<a id='1'></a>"
   ]
  },
  {
   "cell_type": "markdown",
   "metadata": {},
   "source": [
    "В данных содержится информация на месяц до оттока и факт оттока на определённый месяц. Поле 'Churn' — факт оттока в текущем месяце. Клиент считается попавшим в отток, если за последний месяц ни разу не посетил спортзал;  \n",
    "  \n",
    "Информация в датасете:  \n",
    "   \n",
    "Данные клиента за предыдущий до проверки факта оттока месяц:  \n",
    "'gender' — пол;  \n",
    "'Near_Location' — проживание или работа в районе, где находится фитнес-центр;  \n",
    "'Partner' — сотрудник компании-партнёра клуба;  \n",
    "'Promo_friends' — клиент, пришедший в рамках акции «приведи друга»;  \n",
    "'Phone' — наличие контактного телефона;  \n",
    "'Age' — возраст;  \n",
    "'Lifetime' — время в месяцах с момента первого обращения.  \n",
    "  \n",
    "Информация на основе журнала посещений, покупок и текущий статус абонемента клиента:  \n",
    "'Contract_period' — длительность текущего действующего абонемента (месяц, 3 месяца, 6 месяцев, год);  \n",
    "'Month_to_end_contract' — срок в месяцах до окончания текущего действующего абонемента;  \n",
    "'Group_visits' — факт посещения групповых занятий;  \n",
    "'Avg_class_frequency_total' — средняя частота посещений в неделю за все время с начала действия абонемента;  \n",
    "'Avg_class_frequency_current_month' — средняя частота посещений в неделю за предыдущий месяц;  \n",
    "'Avg_additional_charges_total' — суммарная выручка от других услуг фитнес-центра (кафе, спорт-товары, косметический, массажный салон и т.д.).  "
   ]
  },
  {
   "cell_type": "code",
   "execution_count": 1,
   "metadata": {},
   "outputs": [],
   "source": [
    "import pandas as pd\n",
    "import seaborn as sns\n",
    "import matplotlib.pyplot as plt\n",
    "from sklearn.model_selection import train_test_split\n",
    "from sklearn.linear_model import LogisticRegression\n",
    "from sklearn.preprocessing import StandardScaler\n",
    "from sklearn.metrics import accuracy_score, precision_score, recall_score, f1_score\n",
    "from sklearn.ensemble import RandomForestClassifier\n",
    "from scipy.cluster.hierarchy import dendrogram, linkage \n",
    "from sklearn.cluster import KMeans\n",
    "\n",
    "pd.options.display.max_columns = 200"
   ]
  },
  {
   "cell_type": "code",
   "execution_count": 2,
   "metadata": {},
   "outputs": [
    {
     "name": "stdout",
     "output_type": "stream",
     "text": [
      "(4000, 14)\n"
     ]
    },
    {
     "data": {
      "text/html": [
       "<div>\n",
       "<style scoped>\n",
       "    .dataframe tbody tr th:only-of-type {\n",
       "        vertical-align: middle;\n",
       "    }\n",
       "\n",
       "    .dataframe tbody tr th {\n",
       "        vertical-align: top;\n",
       "    }\n",
       "\n",
       "    .dataframe thead th {\n",
       "        text-align: right;\n",
       "    }\n",
       "</style>\n",
       "<table border=\"1\" class=\"dataframe\">\n",
       "  <thead>\n",
       "    <tr style=\"text-align: right;\">\n",
       "      <th></th>\n",
       "      <th>gender</th>\n",
       "      <th>Near_Location</th>\n",
       "      <th>Partner</th>\n",
       "      <th>Promo_friends</th>\n",
       "      <th>Phone</th>\n",
       "      <th>Contract_period</th>\n",
       "      <th>Group_visits</th>\n",
       "      <th>Age</th>\n",
       "      <th>Avg_additional_charges_total</th>\n",
       "      <th>Month_to_end_contract</th>\n",
       "      <th>Lifetime</th>\n",
       "      <th>Avg_class_frequency_total</th>\n",
       "      <th>Avg_class_frequency_current_month</th>\n",
       "      <th>Churn</th>\n",
       "    </tr>\n",
       "  </thead>\n",
       "  <tbody>\n",
       "    <tr>\n",
       "      <td>0</td>\n",
       "      <td>1</td>\n",
       "      <td>1</td>\n",
       "      <td>1</td>\n",
       "      <td>1</td>\n",
       "      <td>0</td>\n",
       "      <td>6</td>\n",
       "      <td>1</td>\n",
       "      <td>29</td>\n",
       "      <td>14.227470</td>\n",
       "      <td>5.0</td>\n",
       "      <td>3</td>\n",
       "      <td>0.020398</td>\n",
       "      <td>0.000000</td>\n",
       "      <td>0</td>\n",
       "    </tr>\n",
       "    <tr>\n",
       "      <td>1</td>\n",
       "      <td>0</td>\n",
       "      <td>1</td>\n",
       "      <td>0</td>\n",
       "      <td>0</td>\n",
       "      <td>1</td>\n",
       "      <td>12</td>\n",
       "      <td>1</td>\n",
       "      <td>31</td>\n",
       "      <td>113.202938</td>\n",
       "      <td>12.0</td>\n",
       "      <td>7</td>\n",
       "      <td>1.922936</td>\n",
       "      <td>1.910244</td>\n",
       "      <td>0</td>\n",
       "    </tr>\n",
       "    <tr>\n",
       "      <td>2</td>\n",
       "      <td>0</td>\n",
       "      <td>1</td>\n",
       "      <td>1</td>\n",
       "      <td>0</td>\n",
       "      <td>1</td>\n",
       "      <td>1</td>\n",
       "      <td>0</td>\n",
       "      <td>28</td>\n",
       "      <td>129.448479</td>\n",
       "      <td>1.0</td>\n",
       "      <td>2</td>\n",
       "      <td>1.859098</td>\n",
       "      <td>1.736502</td>\n",
       "      <td>0</td>\n",
       "    </tr>\n",
       "    <tr>\n",
       "      <td>3</td>\n",
       "      <td>0</td>\n",
       "      <td>1</td>\n",
       "      <td>1</td>\n",
       "      <td>1</td>\n",
       "      <td>1</td>\n",
       "      <td>12</td>\n",
       "      <td>1</td>\n",
       "      <td>33</td>\n",
       "      <td>62.669863</td>\n",
       "      <td>12.0</td>\n",
       "      <td>2</td>\n",
       "      <td>3.205633</td>\n",
       "      <td>3.357215</td>\n",
       "      <td>0</td>\n",
       "    </tr>\n",
       "    <tr>\n",
       "      <td>4</td>\n",
       "      <td>1</td>\n",
       "      <td>1</td>\n",
       "      <td>1</td>\n",
       "      <td>1</td>\n",
       "      <td>1</td>\n",
       "      <td>1</td>\n",
       "      <td>0</td>\n",
       "      <td>26</td>\n",
       "      <td>198.362265</td>\n",
       "      <td>1.0</td>\n",
       "      <td>3</td>\n",
       "      <td>1.113884</td>\n",
       "      <td>1.120078</td>\n",
       "      <td>0</td>\n",
       "    </tr>\n",
       "    <tr>\n",
       "      <td>5</td>\n",
       "      <td>1</td>\n",
       "      <td>1</td>\n",
       "      <td>0</td>\n",
       "      <td>0</td>\n",
       "      <td>1</td>\n",
       "      <td>1</td>\n",
       "      <td>1</td>\n",
       "      <td>34</td>\n",
       "      <td>450.743960</td>\n",
       "      <td>1.0</td>\n",
       "      <td>3</td>\n",
       "      <td>2.623477</td>\n",
       "      <td>2.637007</td>\n",
       "      <td>0</td>\n",
       "    </tr>\n",
       "    <tr>\n",
       "      <td>6</td>\n",
       "      <td>1</td>\n",
       "      <td>1</td>\n",
       "      <td>1</td>\n",
       "      <td>1</td>\n",
       "      <td>0</td>\n",
       "      <td>6</td>\n",
       "      <td>1</td>\n",
       "      <td>32</td>\n",
       "      <td>94.266389</td>\n",
       "      <td>6.0</td>\n",
       "      <td>2</td>\n",
       "      <td>1.138941</td>\n",
       "      <td>1.277242</td>\n",
       "      <td>0</td>\n",
       "    </tr>\n",
       "    <tr>\n",
       "      <td>7</td>\n",
       "      <td>0</td>\n",
       "      <td>1</td>\n",
       "      <td>0</td>\n",
       "      <td>0</td>\n",
       "      <td>1</td>\n",
       "      <td>1</td>\n",
       "      <td>0</td>\n",
       "      <td>30</td>\n",
       "      <td>217.786641</td>\n",
       "      <td>1.0</td>\n",
       "      <td>0</td>\n",
       "      <td>1.213502</td>\n",
       "      <td>1.049387</td>\n",
       "      <td>1</td>\n",
       "    </tr>\n",
       "    <tr>\n",
       "      <td>8</td>\n",
       "      <td>1</td>\n",
       "      <td>1</td>\n",
       "      <td>1</td>\n",
       "      <td>1</td>\n",
       "      <td>1</td>\n",
       "      <td>1</td>\n",
       "      <td>1</td>\n",
       "      <td>23</td>\n",
       "      <td>45.409909</td>\n",
       "      <td>1.0</td>\n",
       "      <td>1</td>\n",
       "      <td>1.106239</td>\n",
       "      <td>1.059333</td>\n",
       "      <td>0</td>\n",
       "    </tr>\n",
       "    <tr>\n",
       "      <td>9</td>\n",
       "      <td>0</td>\n",
       "      <td>1</td>\n",
       "      <td>0</td>\n",
       "      <td>0</td>\n",
       "      <td>1</td>\n",
       "      <td>1</td>\n",
       "      <td>0</td>\n",
       "      <td>31</td>\n",
       "      <td>65.310836</td>\n",
       "      <td>1.0</td>\n",
       "      <td>11</td>\n",
       "      <td>1.810852</td>\n",
       "      <td>1.951368</td>\n",
       "      <td>0</td>\n",
       "    </tr>\n",
       "  </tbody>\n",
       "</table>\n",
       "</div>"
      ],
      "text/plain": [
       "   gender  Near_Location  Partner  Promo_friends  Phone  Contract_period  \\\n",
       "0       1              1        1              1      0                6   \n",
       "1       0              1        0              0      1               12   \n",
       "2       0              1        1              0      1                1   \n",
       "3       0              1        1              1      1               12   \n",
       "4       1              1        1              1      1                1   \n",
       "5       1              1        0              0      1                1   \n",
       "6       1              1        1              1      0                6   \n",
       "7       0              1        0              0      1                1   \n",
       "8       1              1        1              1      1                1   \n",
       "9       0              1        0              0      1                1   \n",
       "\n",
       "   Group_visits  Age  Avg_additional_charges_total  Month_to_end_contract  \\\n",
       "0             1   29                     14.227470                    5.0   \n",
       "1             1   31                    113.202938                   12.0   \n",
       "2             0   28                    129.448479                    1.0   \n",
       "3             1   33                     62.669863                   12.0   \n",
       "4             0   26                    198.362265                    1.0   \n",
       "5             1   34                    450.743960                    1.0   \n",
       "6             1   32                     94.266389                    6.0   \n",
       "7             0   30                    217.786641                    1.0   \n",
       "8             1   23                     45.409909                    1.0   \n",
       "9             0   31                     65.310836                    1.0   \n",
       "\n",
       "   Lifetime  Avg_class_frequency_total  Avg_class_frequency_current_month  \\\n",
       "0         3                   0.020398                           0.000000   \n",
       "1         7                   1.922936                           1.910244   \n",
       "2         2                   1.859098                           1.736502   \n",
       "3         2                   3.205633                           3.357215   \n",
       "4         3                   1.113884                           1.120078   \n",
       "5         3                   2.623477                           2.637007   \n",
       "6         2                   1.138941                           1.277242   \n",
       "7         0                   1.213502                           1.049387   \n",
       "8         1                   1.106239                           1.059333   \n",
       "9        11                   1.810852                           1.951368   \n",
       "\n",
       "   Churn  \n",
       "0      0  \n",
       "1      0  \n",
       "2      0  \n",
       "3      0  \n",
       "4      0  \n",
       "5      0  \n",
       "6      0  \n",
       "7      1  \n",
       "8      0  \n",
       "9      0  "
      ]
     },
     "metadata": {},
     "output_type": "display_data"
    },
    {
     "name": "stdout",
     "output_type": "stream",
     "text": [
      "<class 'pandas.core.frame.DataFrame'>\n",
      "RangeIndex: 4000 entries, 0 to 3999\n",
      "Data columns (total 14 columns):\n",
      "gender                               4000 non-null int64\n",
      "Near_Location                        4000 non-null int64\n",
      "Partner                              4000 non-null int64\n",
      "Promo_friends                        4000 non-null int64\n",
      "Phone                                4000 non-null int64\n",
      "Contract_period                      4000 non-null int64\n",
      "Group_visits                         4000 non-null int64\n",
      "Age                                  4000 non-null int64\n",
      "Avg_additional_charges_total         4000 non-null float64\n",
      "Month_to_end_contract                4000 non-null float64\n",
      "Lifetime                             4000 non-null int64\n",
      "Avg_class_frequency_total            4000 non-null float64\n",
      "Avg_class_frequency_current_month    4000 non-null float64\n",
      "Churn                                4000 non-null int64\n",
      "dtypes: float64(4), int64(10)\n",
      "memory usage: 437.6 KB\n"
     ]
    },
    {
     "data": {
      "text/html": [
       "<div>\n",
       "<style scoped>\n",
       "    .dataframe tbody tr th:only-of-type {\n",
       "        vertical-align: middle;\n",
       "    }\n",
       "\n",
       "    .dataframe tbody tr th {\n",
       "        vertical-align: top;\n",
       "    }\n",
       "\n",
       "    .dataframe thead th {\n",
       "        text-align: right;\n",
       "    }\n",
       "</style>\n",
       "<table border=\"1\" class=\"dataframe\">\n",
       "  <thead>\n",
       "    <tr style=\"text-align: right;\">\n",
       "      <th></th>\n",
       "      <th>count</th>\n",
       "      <th>mean</th>\n",
       "      <th>std</th>\n",
       "      <th>min</th>\n",
       "      <th>25%</th>\n",
       "      <th>50%</th>\n",
       "      <th>75%</th>\n",
       "      <th>max</th>\n",
       "    </tr>\n",
       "  </thead>\n",
       "  <tbody>\n",
       "    <tr>\n",
       "      <td>gender</td>\n",
       "      <td>4000.0</td>\n",
       "      <td>0.510250</td>\n",
       "      <td>0.499957</td>\n",
       "      <td>0.000000</td>\n",
       "      <td>0.000000</td>\n",
       "      <td>1.000000</td>\n",
       "      <td>1.000000</td>\n",
       "      <td>1.000000</td>\n",
       "    </tr>\n",
       "    <tr>\n",
       "      <td>Near_Location</td>\n",
       "      <td>4000.0</td>\n",
       "      <td>0.845250</td>\n",
       "      <td>0.361711</td>\n",
       "      <td>0.000000</td>\n",
       "      <td>1.000000</td>\n",
       "      <td>1.000000</td>\n",
       "      <td>1.000000</td>\n",
       "      <td>1.000000</td>\n",
       "    </tr>\n",
       "    <tr>\n",
       "      <td>Partner</td>\n",
       "      <td>4000.0</td>\n",
       "      <td>0.486750</td>\n",
       "      <td>0.499887</td>\n",
       "      <td>0.000000</td>\n",
       "      <td>0.000000</td>\n",
       "      <td>0.000000</td>\n",
       "      <td>1.000000</td>\n",
       "      <td>1.000000</td>\n",
       "    </tr>\n",
       "    <tr>\n",
       "      <td>Promo_friends</td>\n",
       "      <td>4000.0</td>\n",
       "      <td>0.308500</td>\n",
       "      <td>0.461932</td>\n",
       "      <td>0.000000</td>\n",
       "      <td>0.000000</td>\n",
       "      <td>0.000000</td>\n",
       "      <td>1.000000</td>\n",
       "      <td>1.000000</td>\n",
       "    </tr>\n",
       "    <tr>\n",
       "      <td>Phone</td>\n",
       "      <td>4000.0</td>\n",
       "      <td>0.903500</td>\n",
       "      <td>0.295313</td>\n",
       "      <td>0.000000</td>\n",
       "      <td>1.000000</td>\n",
       "      <td>1.000000</td>\n",
       "      <td>1.000000</td>\n",
       "      <td>1.000000</td>\n",
       "    </tr>\n",
       "    <tr>\n",
       "      <td>Contract_period</td>\n",
       "      <td>4000.0</td>\n",
       "      <td>4.681250</td>\n",
       "      <td>4.549706</td>\n",
       "      <td>1.000000</td>\n",
       "      <td>1.000000</td>\n",
       "      <td>1.000000</td>\n",
       "      <td>6.000000</td>\n",
       "      <td>12.000000</td>\n",
       "    </tr>\n",
       "    <tr>\n",
       "      <td>Group_visits</td>\n",
       "      <td>4000.0</td>\n",
       "      <td>0.412250</td>\n",
       "      <td>0.492301</td>\n",
       "      <td>0.000000</td>\n",
       "      <td>0.000000</td>\n",
       "      <td>0.000000</td>\n",
       "      <td>1.000000</td>\n",
       "      <td>1.000000</td>\n",
       "    </tr>\n",
       "    <tr>\n",
       "      <td>Age</td>\n",
       "      <td>4000.0</td>\n",
       "      <td>29.184250</td>\n",
       "      <td>3.258367</td>\n",
       "      <td>18.000000</td>\n",
       "      <td>27.000000</td>\n",
       "      <td>29.000000</td>\n",
       "      <td>31.000000</td>\n",
       "      <td>41.000000</td>\n",
       "    </tr>\n",
       "    <tr>\n",
       "      <td>Avg_additional_charges_total</td>\n",
       "      <td>4000.0</td>\n",
       "      <td>146.943728</td>\n",
       "      <td>96.355602</td>\n",
       "      <td>0.148205</td>\n",
       "      <td>68.868830</td>\n",
       "      <td>136.220159</td>\n",
       "      <td>210.949625</td>\n",
       "      <td>552.590740</td>\n",
       "    </tr>\n",
       "    <tr>\n",
       "      <td>Month_to_end_contract</td>\n",
       "      <td>4000.0</td>\n",
       "      <td>4.322750</td>\n",
       "      <td>4.191297</td>\n",
       "      <td>1.000000</td>\n",
       "      <td>1.000000</td>\n",
       "      <td>1.000000</td>\n",
       "      <td>6.000000</td>\n",
       "      <td>12.000000</td>\n",
       "    </tr>\n",
       "    <tr>\n",
       "      <td>Lifetime</td>\n",
       "      <td>4000.0</td>\n",
       "      <td>3.724750</td>\n",
       "      <td>3.749267</td>\n",
       "      <td>0.000000</td>\n",
       "      <td>1.000000</td>\n",
       "      <td>3.000000</td>\n",
       "      <td>5.000000</td>\n",
       "      <td>31.000000</td>\n",
       "    </tr>\n",
       "    <tr>\n",
       "      <td>Avg_class_frequency_total</td>\n",
       "      <td>4000.0</td>\n",
       "      <td>1.879020</td>\n",
       "      <td>0.972245</td>\n",
       "      <td>0.000000</td>\n",
       "      <td>1.180875</td>\n",
       "      <td>1.832768</td>\n",
       "      <td>2.536078</td>\n",
       "      <td>6.023668</td>\n",
       "    </tr>\n",
       "    <tr>\n",
       "      <td>Avg_class_frequency_current_month</td>\n",
       "      <td>4000.0</td>\n",
       "      <td>1.767052</td>\n",
       "      <td>1.052906</td>\n",
       "      <td>0.000000</td>\n",
       "      <td>0.963003</td>\n",
       "      <td>1.719574</td>\n",
       "      <td>2.510336</td>\n",
       "      <td>6.146783</td>\n",
       "    </tr>\n",
       "    <tr>\n",
       "      <td>Churn</td>\n",
       "      <td>4000.0</td>\n",
       "      <td>0.265250</td>\n",
       "      <td>0.441521</td>\n",
       "      <td>0.000000</td>\n",
       "      <td>0.000000</td>\n",
       "      <td>0.000000</td>\n",
       "      <td>1.000000</td>\n",
       "      <td>1.000000</td>\n",
       "    </tr>\n",
       "  </tbody>\n",
       "</table>\n",
       "</div>"
      ],
      "text/plain": [
       "                                    count        mean        std        min  \\\n",
       "gender                             4000.0    0.510250   0.499957   0.000000   \n",
       "Near_Location                      4000.0    0.845250   0.361711   0.000000   \n",
       "Partner                            4000.0    0.486750   0.499887   0.000000   \n",
       "Promo_friends                      4000.0    0.308500   0.461932   0.000000   \n",
       "Phone                              4000.0    0.903500   0.295313   0.000000   \n",
       "Contract_period                    4000.0    4.681250   4.549706   1.000000   \n",
       "Group_visits                       4000.0    0.412250   0.492301   0.000000   \n",
       "Age                                4000.0   29.184250   3.258367  18.000000   \n",
       "Avg_additional_charges_total       4000.0  146.943728  96.355602   0.148205   \n",
       "Month_to_end_contract              4000.0    4.322750   4.191297   1.000000   \n",
       "Lifetime                           4000.0    3.724750   3.749267   0.000000   \n",
       "Avg_class_frequency_total          4000.0    1.879020   0.972245   0.000000   \n",
       "Avg_class_frequency_current_month  4000.0    1.767052   1.052906   0.000000   \n",
       "Churn                              4000.0    0.265250   0.441521   0.000000   \n",
       "\n",
       "                                         25%         50%         75%  \\\n",
       "gender                              0.000000    1.000000    1.000000   \n",
       "Near_Location                       1.000000    1.000000    1.000000   \n",
       "Partner                             0.000000    0.000000    1.000000   \n",
       "Promo_friends                       0.000000    0.000000    1.000000   \n",
       "Phone                               1.000000    1.000000    1.000000   \n",
       "Contract_period                     1.000000    1.000000    6.000000   \n",
       "Group_visits                        0.000000    0.000000    1.000000   \n",
       "Age                                27.000000   29.000000   31.000000   \n",
       "Avg_additional_charges_total       68.868830  136.220159  210.949625   \n",
       "Month_to_end_contract               1.000000    1.000000    6.000000   \n",
       "Lifetime                            1.000000    3.000000    5.000000   \n",
       "Avg_class_frequency_total           1.180875    1.832768    2.536078   \n",
       "Avg_class_frequency_current_month   0.963003    1.719574    2.510336   \n",
       "Churn                               0.000000    0.000000    1.000000   \n",
       "\n",
       "                                          max  \n",
       "gender                               1.000000  \n",
       "Near_Location                        1.000000  \n",
       "Partner                              1.000000  \n",
       "Promo_friends                        1.000000  \n",
       "Phone                                1.000000  \n",
       "Contract_period                     12.000000  \n",
       "Group_visits                         1.000000  \n",
       "Age                                 41.000000  \n",
       "Avg_additional_charges_total       552.590740  \n",
       "Month_to_end_contract               12.000000  \n",
       "Lifetime                            31.000000  \n",
       "Avg_class_frequency_total            6.023668  \n",
       "Avg_class_frequency_current_month    6.146783  \n",
       "Churn                                1.000000  "
      ]
     },
     "execution_count": 2,
     "metadata": {},
     "output_type": "execute_result"
    }
   ],
   "source": [
    "gym = pd.read_csv('/datasets/gym_churn.csv')\n",
    "\n",
    "print(gym.shape)\n",
    "display(gym.head(10))\n",
    "\n",
    "gym.info() \n",
    "\n",
    "gym.describe().T"
   ]
  },
  {
   "cell_type": "markdown",
   "metadata": {},
   "source": [
    "Все признаки численные, пропусков в данных нет.   \n",
    "В среднем длительность текущего действующего абонемента составляет чуть больше четырех с половиной месяцев, при этом стандартное отклонение - 4,55, медианное значение - 1 месяц. Половина клиентов обратилась первый раз в фитнес-центр три месяца назад, а среднее количество месяцев с момента первого обращения 3,7 при стандартном отклонении 3,75. В среднем средняя частота посещений в неделю за все время с начала действия абонемента 1,88, стандартное отклонение - почти 1, а средняя частота посещений в неделю за предыдущий месяц немного меньше и составляет в среднем 1,77 со стандартным отклонением чуть больше единицы. Средний срок до окончания текущего действующего абонемента - 4,32 мес., а стандартное отклонение 4,2.    \n",
    "Средний возраст клиентов составляет 29 лет. "
   ]
  },
  {
   "cell_type": "code",
   "execution_count": 3,
   "metadata": {},
   "outputs": [
    {
     "data": {
      "text/html": [
       "<div>\n",
       "<style scoped>\n",
       "    .dataframe tbody tr th:only-of-type {\n",
       "        vertical-align: middle;\n",
       "    }\n",
       "\n",
       "    .dataframe tbody tr th {\n",
       "        vertical-align: top;\n",
       "    }\n",
       "\n",
       "    .dataframe thead tr th {\n",
       "        text-align: left;\n",
       "    }\n",
       "\n",
       "    .dataframe thead tr:last-of-type th {\n",
       "        text-align: right;\n",
       "    }\n",
       "</style>\n",
       "<table border=\"1\" class=\"dataframe\">\n",
       "  <thead>\n",
       "    <tr>\n",
       "      <th></th>\n",
       "      <th colspan=\"8\" halign=\"left\">gender</th>\n",
       "      <th colspan=\"8\" halign=\"left\">near_location</th>\n",
       "      <th colspan=\"8\" halign=\"left\">partner</th>\n",
       "      <th colspan=\"8\" halign=\"left\">promo_friends</th>\n",
       "      <th colspan=\"8\" halign=\"left\">phone</th>\n",
       "      <th colspan=\"8\" halign=\"left\">contract_period</th>\n",
       "      <th colspan=\"8\" halign=\"left\">group_visits</th>\n",
       "      <th colspan=\"8\" halign=\"left\">age</th>\n",
       "      <th colspan=\"8\" halign=\"left\">avg_additional_charges_total</th>\n",
       "      <th colspan=\"8\" halign=\"left\">month_to_end_contract</th>\n",
       "      <th colspan=\"8\" halign=\"left\">lifetime</th>\n",
       "      <th colspan=\"8\" halign=\"left\">avg_class_frequency_total</th>\n",
       "      <th colspan=\"8\" halign=\"left\">avg_class_frequency_current_month</th>\n",
       "    </tr>\n",
       "    <tr>\n",
       "      <th></th>\n",
       "      <th>count</th>\n",
       "      <th>mean</th>\n",
       "      <th>std</th>\n",
       "      <th>min</th>\n",
       "      <th>25%</th>\n",
       "      <th>50%</th>\n",
       "      <th>75%</th>\n",
       "      <th>max</th>\n",
       "      <th>count</th>\n",
       "      <th>mean</th>\n",
       "      <th>std</th>\n",
       "      <th>min</th>\n",
       "      <th>25%</th>\n",
       "      <th>50%</th>\n",
       "      <th>75%</th>\n",
       "      <th>max</th>\n",
       "      <th>count</th>\n",
       "      <th>mean</th>\n",
       "      <th>std</th>\n",
       "      <th>min</th>\n",
       "      <th>25%</th>\n",
       "      <th>50%</th>\n",
       "      <th>75%</th>\n",
       "      <th>max</th>\n",
       "      <th>count</th>\n",
       "      <th>mean</th>\n",
       "      <th>std</th>\n",
       "      <th>min</th>\n",
       "      <th>25%</th>\n",
       "      <th>50%</th>\n",
       "      <th>75%</th>\n",
       "      <th>max</th>\n",
       "      <th>count</th>\n",
       "      <th>mean</th>\n",
       "      <th>std</th>\n",
       "      <th>min</th>\n",
       "      <th>25%</th>\n",
       "      <th>50%</th>\n",
       "      <th>75%</th>\n",
       "      <th>max</th>\n",
       "      <th>count</th>\n",
       "      <th>mean</th>\n",
       "      <th>std</th>\n",
       "      <th>min</th>\n",
       "      <th>25%</th>\n",
       "      <th>50%</th>\n",
       "      <th>75%</th>\n",
       "      <th>max</th>\n",
       "      <th>count</th>\n",
       "      <th>mean</th>\n",
       "      <th>std</th>\n",
       "      <th>min</th>\n",
       "      <th>25%</th>\n",
       "      <th>50%</th>\n",
       "      <th>75%</th>\n",
       "      <th>max</th>\n",
       "      <th>count</th>\n",
       "      <th>mean</th>\n",
       "      <th>std</th>\n",
       "      <th>min</th>\n",
       "      <th>25%</th>\n",
       "      <th>50%</th>\n",
       "      <th>75%</th>\n",
       "      <th>max</th>\n",
       "      <th>count</th>\n",
       "      <th>mean</th>\n",
       "      <th>std</th>\n",
       "      <th>min</th>\n",
       "      <th>25%</th>\n",
       "      <th>50%</th>\n",
       "      <th>75%</th>\n",
       "      <th>max</th>\n",
       "      <th>count</th>\n",
       "      <th>mean</th>\n",
       "      <th>std</th>\n",
       "      <th>min</th>\n",
       "      <th>25%</th>\n",
       "      <th>50%</th>\n",
       "      <th>75%</th>\n",
       "      <th>max</th>\n",
       "      <th>count</th>\n",
       "      <th>mean</th>\n",
       "      <th>std</th>\n",
       "      <th>min</th>\n",
       "      <th>25%</th>\n",
       "      <th>50%</th>\n",
       "      <th>75%</th>\n",
       "      <th>max</th>\n",
       "      <th>count</th>\n",
       "      <th>mean</th>\n",
       "      <th>std</th>\n",
       "      <th>min</th>\n",
       "      <th>25%</th>\n",
       "      <th>50%</th>\n",
       "      <th>75%</th>\n",
       "      <th>max</th>\n",
       "      <th>count</th>\n",
       "      <th>mean</th>\n",
       "      <th>std</th>\n",
       "      <th>min</th>\n",
       "      <th>25%</th>\n",
       "      <th>50%</th>\n",
       "      <th>75%</th>\n",
       "      <th>max</th>\n",
       "    </tr>\n",
       "    <tr>\n",
       "      <th>churn</th>\n",
       "      <th></th>\n",
       "      <th></th>\n",
       "      <th></th>\n",
       "      <th></th>\n",
       "      <th></th>\n",
       "      <th></th>\n",
       "      <th></th>\n",
       "      <th></th>\n",
       "      <th></th>\n",
       "      <th></th>\n",
       "      <th></th>\n",
       "      <th></th>\n",
       "      <th></th>\n",
       "      <th></th>\n",
       "      <th></th>\n",
       "      <th></th>\n",
       "      <th></th>\n",
       "      <th></th>\n",
       "      <th></th>\n",
       "      <th></th>\n",
       "      <th></th>\n",
       "      <th></th>\n",
       "      <th></th>\n",
       "      <th></th>\n",
       "      <th></th>\n",
       "      <th></th>\n",
       "      <th></th>\n",
       "      <th></th>\n",
       "      <th></th>\n",
       "      <th></th>\n",
       "      <th></th>\n",
       "      <th></th>\n",
       "      <th></th>\n",
       "      <th></th>\n",
       "      <th></th>\n",
       "      <th></th>\n",
       "      <th></th>\n",
       "      <th></th>\n",
       "      <th></th>\n",
       "      <th></th>\n",
       "      <th></th>\n",
       "      <th></th>\n",
       "      <th></th>\n",
       "      <th></th>\n",
       "      <th></th>\n",
       "      <th></th>\n",
       "      <th></th>\n",
       "      <th></th>\n",
       "      <th></th>\n",
       "      <th></th>\n",
       "      <th></th>\n",
       "      <th></th>\n",
       "      <th></th>\n",
       "      <th></th>\n",
       "      <th></th>\n",
       "      <th></th>\n",
       "      <th></th>\n",
       "      <th></th>\n",
       "      <th></th>\n",
       "      <th></th>\n",
       "      <th></th>\n",
       "      <th></th>\n",
       "      <th></th>\n",
       "      <th></th>\n",
       "      <th></th>\n",
       "      <th></th>\n",
       "      <th></th>\n",
       "      <th></th>\n",
       "      <th></th>\n",
       "      <th></th>\n",
       "      <th></th>\n",
       "      <th></th>\n",
       "      <th></th>\n",
       "      <th></th>\n",
       "      <th></th>\n",
       "      <th></th>\n",
       "      <th></th>\n",
       "      <th></th>\n",
       "      <th></th>\n",
       "      <th></th>\n",
       "      <th></th>\n",
       "      <th></th>\n",
       "      <th></th>\n",
       "      <th></th>\n",
       "      <th></th>\n",
       "      <th></th>\n",
       "      <th></th>\n",
       "      <th></th>\n",
       "      <th></th>\n",
       "      <th></th>\n",
       "      <th></th>\n",
       "      <th></th>\n",
       "      <th></th>\n",
       "      <th></th>\n",
       "      <th></th>\n",
       "      <th></th>\n",
       "      <th></th>\n",
       "      <th></th>\n",
       "      <th></th>\n",
       "      <th></th>\n",
       "      <th></th>\n",
       "      <th></th>\n",
       "      <th></th>\n",
       "      <th></th>\n",
       "    </tr>\n",
       "  </thead>\n",
       "  <tbody>\n",
       "    <tr>\n",
       "      <td>0</td>\n",
       "      <td>2939.0</td>\n",
       "      <td>0.510037</td>\n",
       "      <td>0.499984</td>\n",
       "      <td>0.0</td>\n",
       "      <td>0.0</td>\n",
       "      <td>1.0</td>\n",
       "      <td>1.0</td>\n",
       "      <td>1.0</td>\n",
       "      <td>2939.0</td>\n",
       "      <td>0.873086</td>\n",
       "      <td>0.332933</td>\n",
       "      <td>0.0</td>\n",
       "      <td>1.0</td>\n",
       "      <td>1.0</td>\n",
       "      <td>1.0</td>\n",
       "      <td>1.0</td>\n",
       "      <td>2939.0</td>\n",
       "      <td>0.534195</td>\n",
       "      <td>0.498914</td>\n",
       "      <td>0.0</td>\n",
       "      <td>0.0</td>\n",
       "      <td>1.0</td>\n",
       "      <td>1.0</td>\n",
       "      <td>1.0</td>\n",
       "      <td>2939.0</td>\n",
       "      <td>0.353522</td>\n",
       "      <td>0.478144</td>\n",
       "      <td>0.0</td>\n",
       "      <td>0.0</td>\n",
       "      <td>0.0</td>\n",
       "      <td>1.0</td>\n",
       "      <td>1.0</td>\n",
       "      <td>2939.0</td>\n",
       "      <td>0.903709</td>\n",
       "      <td>0.295040</td>\n",
       "      <td>0.0</td>\n",
       "      <td>1.0</td>\n",
       "      <td>1.0</td>\n",
       "      <td>1.0</td>\n",
       "      <td>1.0</td>\n",
       "      <td>2939.0</td>\n",
       "      <td>5.747193</td>\n",
       "      <td>4.716942</td>\n",
       "      <td>1.0</td>\n",
       "      <td>1.0</td>\n",
       "      <td>6.0</td>\n",
       "      <td>12.0</td>\n",
       "      <td>12.0</td>\n",
       "      <td>2939.0</td>\n",
       "      <td>0.464103</td>\n",
       "      <td>0.498795</td>\n",
       "      <td>0.0</td>\n",
       "      <td>0.0</td>\n",
       "      <td>0.0</td>\n",
       "      <td>1.0</td>\n",
       "      <td>1.0</td>\n",
       "      <td>2939.0</td>\n",
       "      <td>29.976523</td>\n",
       "      <td>3.009933</td>\n",
       "      <td>19.0</td>\n",
       "      <td>28.0</td>\n",
       "      <td>30.0</td>\n",
       "      <td>32.0</td>\n",
       "      <td>41.0</td>\n",
       "      <td>2939.0</td>\n",
       "      <td>158.445715</td>\n",
       "      <td>99.801599</td>\n",
       "      <td>0.171862</td>\n",
       "      <td>76.920993</td>\n",
       "      <td>149.881171</td>\n",
       "      <td>224.448274</td>\n",
       "      <td>552.59074</td>\n",
       "      <td>2939.0</td>\n",
       "      <td>5.283089</td>\n",
       "      <td>4.363522</td>\n",
       "      <td>1.0</td>\n",
       "      <td>1.0</td>\n",
       "      <td>6.0</td>\n",
       "      <td>10.0</td>\n",
       "      <td>12.0</td>\n",
       "      <td>2939.0</td>\n",
       "      <td>4.711807</td>\n",
       "      <td>3.874780</td>\n",
       "      <td>0.0</td>\n",
       "      <td>2.0</td>\n",
       "      <td>4.0</td>\n",
       "      <td>6.0</td>\n",
       "      <td>31.0</td>\n",
       "      <td>2939.0</td>\n",
       "      <td>2.024876</td>\n",
       "      <td>1.016006</td>\n",
       "      <td>0.0</td>\n",
       "      <td>1.283137</td>\n",
       "      <td>2.043252</td>\n",
       "      <td>2.732944</td>\n",
       "      <td>6.023668</td>\n",
       "      <td>2939.0</td>\n",
       "      <td>2.027882</td>\n",
       "      <td>1.018994</td>\n",
       "      <td>0.0</td>\n",
       "      <td>1.297021</td>\n",
       "      <td>2.046697</td>\n",
       "      <td>2.740648</td>\n",
       "      <td>6.146783</td>\n",
       "    </tr>\n",
       "    <tr>\n",
       "      <td>1</td>\n",
       "      <td>1061.0</td>\n",
       "      <td>0.510839</td>\n",
       "      <td>0.500118</td>\n",
       "      <td>0.0</td>\n",
       "      <td>0.0</td>\n",
       "      <td>1.0</td>\n",
       "      <td>1.0</td>\n",
       "      <td>1.0</td>\n",
       "      <td>1061.0</td>\n",
       "      <td>0.768143</td>\n",
       "      <td>0.422217</td>\n",
       "      <td>0.0</td>\n",
       "      <td>1.0</td>\n",
       "      <td>1.0</td>\n",
       "      <td>1.0</td>\n",
       "      <td>1.0</td>\n",
       "      <td>1061.0</td>\n",
       "      <td>0.355325</td>\n",
       "      <td>0.478837</td>\n",
       "      <td>0.0</td>\n",
       "      <td>0.0</td>\n",
       "      <td>0.0</td>\n",
       "      <td>1.0</td>\n",
       "      <td>1.0</td>\n",
       "      <td>1061.0</td>\n",
       "      <td>0.183789</td>\n",
       "      <td>0.387495</td>\n",
       "      <td>0.0</td>\n",
       "      <td>0.0</td>\n",
       "      <td>0.0</td>\n",
       "      <td>0.0</td>\n",
       "      <td>1.0</td>\n",
       "      <td>1061.0</td>\n",
       "      <td>0.902922</td>\n",
       "      <td>0.296204</td>\n",
       "      <td>0.0</td>\n",
       "      <td>1.0</td>\n",
       "      <td>1.0</td>\n",
       "      <td>1.0</td>\n",
       "      <td>1.0</td>\n",
       "      <td>1061.0</td>\n",
       "      <td>1.728558</td>\n",
       "      <td>2.132371</td>\n",
       "      <td>1.0</td>\n",
       "      <td>1.0</td>\n",
       "      <td>1.0</td>\n",
       "      <td>1.0</td>\n",
       "      <td>12.0</td>\n",
       "      <td>1061.0</td>\n",
       "      <td>0.268615</td>\n",
       "      <td>0.443448</td>\n",
       "      <td>0.0</td>\n",
       "      <td>0.0</td>\n",
       "      <td>0.0</td>\n",
       "      <td>1.0</td>\n",
       "      <td>1.0</td>\n",
       "      <td>1061.0</td>\n",
       "      <td>26.989632</td>\n",
       "      <td>2.895163</td>\n",
       "      <td>18.0</td>\n",
       "      <td>25.0</td>\n",
       "      <td>27.0</td>\n",
       "      <td>29.0</td>\n",
       "      <td>38.0</td>\n",
       "      <td>1061.0</td>\n",
       "      <td>115.082899</td>\n",
       "      <td>77.696419</td>\n",
       "      <td>0.148205</td>\n",
       "      <td>50.629127</td>\n",
       "      <td>103.814686</td>\n",
       "      <td>165.616858</td>\n",
       "      <td>425.53522</td>\n",
       "      <td>1061.0</td>\n",
       "      <td>1.662582</td>\n",
       "      <td>1.964593</td>\n",
       "      <td>1.0</td>\n",
       "      <td>1.0</td>\n",
       "      <td>1.0</td>\n",
       "      <td>1.0</td>\n",
       "      <td>12.0</td>\n",
       "      <td>1061.0</td>\n",
       "      <td>0.990575</td>\n",
       "      <td>1.110799</td>\n",
       "      <td>0.0</td>\n",
       "      <td>0.0</td>\n",
       "      <td>1.0</td>\n",
       "      <td>1.0</td>\n",
       "      <td>9.0</td>\n",
       "      <td>1061.0</td>\n",
       "      <td>1.474995</td>\n",
       "      <td>0.694705</td>\n",
       "      <td>0.0</td>\n",
       "      <td>1.010771</td>\n",
       "      <td>1.491187</td>\n",
       "      <td>1.956438</td>\n",
       "      <td>3.478646</td>\n",
       "      <td>1061.0</td>\n",
       "      <td>1.044546</td>\n",
       "      <td>0.770237</td>\n",
       "      <td>0.0</td>\n",
       "      <td>0.421337</td>\n",
       "      <td>0.979445</td>\n",
       "      <td>1.588576</td>\n",
       "      <td>3.540271</td>\n",
       "    </tr>\n",
       "  </tbody>\n",
       "</table>\n",
       "</div>"
      ],
      "text/plain": [
       "       gender                                              near_location  \\\n",
       "        count      mean       std  min  25%  50%  75%  max         count   \n",
       "churn                                                                      \n",
       "0      2939.0  0.510037  0.499984  0.0  0.0  1.0  1.0  1.0        2939.0   \n",
       "1      1061.0  0.510839  0.500118  0.0  0.0  1.0  1.0  1.0        1061.0   \n",
       "\n",
       "                                                   partner            \\\n",
       "           mean       std  min  25%  50%  75%  max   count      mean   \n",
       "churn                                                                  \n",
       "0      0.873086  0.332933  0.0  1.0  1.0  1.0  1.0  2939.0  0.534195   \n",
       "1      0.768143  0.422217  0.0  1.0  1.0  1.0  1.0  1061.0  0.355325   \n",
       "\n",
       "                                         promo_friends                      \\\n",
       "            std  min  25%  50%  75%  max         count      mean       std   \n",
       "churn                                                                        \n",
       "0      0.498914  0.0  0.0  1.0  1.0  1.0        2939.0  0.353522  0.478144   \n",
       "1      0.478837  0.0  0.0  0.0  1.0  1.0        1061.0  0.183789  0.387495   \n",
       "\n",
       "                                 phone                                     \\\n",
       "       min  25%  50%  75%  max   count      mean       std  min  25%  50%   \n",
       "churn                                                                       \n",
       "0      0.0  0.0  0.0  1.0  1.0  2939.0  0.903709  0.295040  0.0  1.0  1.0   \n",
       "1      0.0  0.0  0.0  0.0  1.0  1061.0  0.902922  0.296204  0.0  1.0  1.0   \n",
       "\n",
       "                contract_period                                           \\\n",
       "       75%  max           count      mean       std  min  25%  50%   75%   \n",
       "churn                                                                      \n",
       "0      1.0  1.0          2939.0  5.747193  4.716942  1.0  1.0  6.0  12.0   \n",
       "1      1.0  1.0          1061.0  1.728558  2.132371  1.0  1.0  1.0   1.0   \n",
       "\n",
       "            group_visits                                                  age  \\\n",
       "        max        count      mean       std  min  25%  50%  75%  max   count   \n",
       "churn                                                                           \n",
       "0      12.0       2939.0  0.464103  0.498795  0.0  0.0  0.0  1.0  1.0  2939.0   \n",
       "1      12.0       1061.0  0.268615  0.443448  0.0  0.0  0.0  1.0  1.0  1061.0   \n",
       "\n",
       "                                                          \\\n",
       "            mean       std   min   25%   50%   75%   max   \n",
       "churn                                                      \n",
       "0      29.976523  3.009933  19.0  28.0  30.0  32.0  41.0   \n",
       "1      26.989632  2.895163  18.0  25.0  27.0  29.0  38.0   \n",
       "\n",
       "      avg_additional_charges_total                                   \\\n",
       "                             count        mean        std       min   \n",
       "churn                                                                 \n",
       "0                           2939.0  158.445715  99.801599  0.171862   \n",
       "1                           1061.0  115.082899  77.696419  0.148205   \n",
       "\n",
       "                                                    month_to_end_contract  \\\n",
       "             25%         50%         75%        max                 count   \n",
       "churn                                                                       \n",
       "0      76.920993  149.881171  224.448274  552.59074                2939.0   \n",
       "1      50.629127  103.814686  165.616858  425.53522                1061.0   \n",
       "\n",
       "                                                     lifetime            \\\n",
       "           mean       std  min  25%  50%   75%   max    count      mean   \n",
       "churn                                                                     \n",
       "0      5.283089  4.363522  1.0  1.0  6.0  10.0  12.0   2939.0  4.711807   \n",
       "1      1.662582  1.964593  1.0  1.0  1.0   1.0  12.0   1061.0  0.990575   \n",
       "\n",
       "                                          avg_class_frequency_total            \\\n",
       "            std  min  25%  50%  75%   max                     count      mean   \n",
       "churn                                                                           \n",
       "0      3.874780  0.0  2.0  4.0  6.0  31.0                    2939.0  2.024876   \n",
       "1      1.110799  0.0  0.0  1.0  1.0   9.0                    1061.0  1.474995   \n",
       "\n",
       "                                                              \\\n",
       "            std  min       25%       50%       75%       max   \n",
       "churn                                                          \n",
       "0      1.016006  0.0  1.283137  2.043252  2.732944  6.023668   \n",
       "1      0.694705  0.0  1.010771  1.491187  1.956438  3.478646   \n",
       "\n",
       "      avg_class_frequency_current_month                                     \\\n",
       "                                  count      mean       std  min       25%   \n",
       "churn                                                                        \n",
       "0                                2939.0  2.027882  1.018994  0.0  1.297021   \n",
       "1                                1061.0  1.044546  0.770237  0.0  0.421337   \n",
       "\n",
       "                                     \n",
       "            50%       75%       max  \n",
       "churn                                \n",
       "0      2.046697  2.740648  6.146783  \n",
       "1      0.979445  1.588576  3.540271  "
      ]
     },
     "execution_count": 3,
     "metadata": {},
     "output_type": "execute_result"
    }
   ],
   "source": [
    "gym.columns = gym.columns.str.lower()\n",
    "gym.groupby(['churn']).describe()"
   ]
  },
  {
   "cell_type": "markdown",
   "metadata": {},
   "source": [
    "В текущем месяце в отток попал 1061 клиент из 4000.  \n",
    "Средний возраст ушедших клиентов 27 лет - почти на 3 года меньше среднего возраста оставшихся. В среднем длительность текущего действующего абонемента у тех, по кому зафиксирован факт оттока - 1,7 мес., а у активных клиентов - 5,7 мес., но стандартное отклонение более чем в два раза больше и составляет 4,7 мес.    \n",
    "У клиентов, попавших в отток, время с момента первого обращения в фитнес-центр в среднем составляет 1 мес (против 4,7 у активных клиентов), а срок до окончания текущего действующего абонемента 1,66 мес.(против 5,3 у активных) со стандартным отклонением соответственно 1,1 и 2. При этом у 75% клиентов, попавших в отток, до конца окончания абонемента остался месяц, в то время как у 75% активных клиентов до конца срока 10 месяцев. "
   ]
  },
  {
   "cell_type": "code",
   "execution_count": 4,
   "metadata": {
    "scrolled": false
   },
   "outputs": [
    {
     "data": {
      "image/png": "[encoded data removed]",
      "text/plain": [
       "<Figure size 432x288 with 1 Axes>"
      ]
     },
     "metadata": {
      "needs_background": "light"
     },
     "output_type": "display_data"
    },
    {
     "data": {
      "image/png": "[encoded data removed]",
      "text/plain": [
       "<Figure size 432x288 with 1 Axes>"
      ]
     },
     "metadata": {
      "needs_background": "light"
     },
     "output_type": "display_data"
    },
    {
     "data": {
      "image/png": "[encoded data removed]",
      "text/plain": [
       "<Figure size 432x288 with 1 Axes>"
      ]
     },
     "metadata": {
      "needs_background": "light"
     },
     "output_type": "display_data"
    },
    {
     "data": {
      "image/png": "[encoded data removed]",
      "text/plain": [
       "<Figure size 432x288 with 1 Axes>"
      ]
     },
     "metadata": {
      "needs_background": "light"
     },
     "output_type": "display_data"
    },
    {
     "data": {
      "image/png": "[encoded data removed]",
      "text/plain": [
       "<Figure size 432x288 with 1 Axes>"
      ]
     },
     "metadata": {
      "needs_background": "light"
     },
     "output_type": "display_data"
    },
    {
     "data": {
      "image/png": "[encoded data removed]",
      "text/plain": [
       "<Figure size 432x288 with 1 Axes>"
      ]
     },
     "metadata": {
      "needs_background": "light"
     },
     "output_type": "display_data"
    },
    {
     "data": {
      "image/png": "[encoded data removed]",
      "text/plain": [
       "<Figure size 432x288 with 1 Axes>"
      ]
     },
     "metadata": {
      "needs_background": "light"
     },
     "output_type": "display_data"
    },
    {
     "data": {
      "image/png": "[encoded data removed]",
      "text/plain": [
       "<Figure size 432x288 with 1 Axes>"
      ]
     },
     "metadata": {
      "needs_background": "light"
     },
     "output_type": "display_data"
    },
    {
     "data": {
      "image/png": "[encoded data removed]",
      "text/plain": [
       "<Figure size 432x288 with 1 Axes>"
      ]
     },
     "metadata": {
      "needs_background": "light"
     },
     "output_type": "display_data"
    },
    {
     "data": {
      "image/png": "[encoded data removed]",
      "text/plain": [
       "<Figure size 432x288 with 1 Axes>"
      ]
     },
     "metadata": {
      "needs_background": "light"
     },
     "output_type": "display_data"
    },
    {
     "data": {
      "image/png": "[encoded data removed]",
      "text/plain": [
       "<Figure size 432x288 with 1 Axes>"
      ]
     },
     "metadata": {
      "needs_background": "light"
     },
     "output_type": "display_data"
    },
    {
     "data": {
      "image/png": "[encoded data removed]",
      "text/plain": [
       "<Figure size 432x288 with 1 Axes>"
      ]
     },
     "metadata": {
      "needs_background": "light"
     },
     "output_type": "display_data"
    },
    {
     "data": {
      "image/png": "[encoded data removed]",
      "text/plain": [
       "<Figure size 432x288 with 1 Axes>"
      ]
     },
     "metadata": {
      "needs_background": "light"
     },
     "output_type": "display_data"
    }
   ],
   "source": [
    "for col in gym.drop('churn', axis = 1).columns:\n",
    "    sns.barplot(data=gym, x=gym['churn'], y=col)\n",
    "    plt.show()"
   ]
  },
  {
   "cell_type": "markdown",
   "metadata": {},
   "source": [
    "У клиентов, попавших в отток, длительность текущего действующего абонемента, срок до его окончания и время с момента первого обращения в фитнес-центр значительно меньше, чем у действующих клиентов. Также они в два раза реже посещали фитнес-центр в неделю за предыдущий месяц и принесли меньше суммарной выручки от других услуг фитнес-центра. "
   ]
  },
  {
   "cell_type": "code",
   "execution_count": 5,
   "metadata": {
    "scrolled": false
   },
   "outputs": [
    {
     "data": {
      "image/png": "[encoded data removed]",
      "text/plain": [
       "<Figure size 432x288 with 1 Axes>"
      ]
     },
     "metadata": {
      "needs_background": "light"
     },
     "output_type": "display_data"
    },
    {
     "data": {
      "image/png": "[encoded data removed]",
      "text/plain": [
       "<Figure size 432x288 with 1 Axes>"
      ]
     },
     "metadata": {
      "needs_background": "light"
     },
     "output_type": "display_data"
    },
    {
     "data": {
      "image/png": "[encoded data removed]",
      "text/plain": [
       "<Figure size 432x288 with 1 Axes>"
      ]
     },
     "metadata": {
      "needs_background": "light"
     },
     "output_type": "display_data"
    },
    {
     "data": {
      "image/png": "[encoded data removed]",
      "text/plain": [
       "<Figure size 432x288 with 1 Axes>"
      ]
     },
     "metadata": {
      "needs_background": "light"
     },
     "output_type": "display_data"
    },
    {
     "data": {
      "image/png": "[encoded data removed]",
      "text/plain": [
       "<Figure size 432x288 with 1 Axes>"
      ]
     },
     "metadata": {
      "needs_background": "light"
     },
     "output_type": "display_data"
    },
    {
     "data": {
      "image/png": "[encoded data removed]",
      "text/plain": [
       "<Figure size 432x288 with 1 Axes>"
      ]
     },
     "metadata": {
      "needs_background": "light"
     },
     "output_type": "display_data"
    },
    {
     "data": {
      "image/png": "[encoded data removed]",
      "text/plain": [
       "<Figure size 432x288 with 1 Axes>"
      ]
     },
     "metadata": {
      "needs_background": "light"
     },
     "output_type": "display_data"
    },
    {
     "data": {
      "image/png": "[encoded data removed]",
      "text/plain": [
       "<Figure size 432x288 with 1 Axes>"
      ]
     },
     "metadata": {
      "needs_background": "light"
     },
     "output_type": "display_data"
    },
    {
     "data": {
      "image/png": "[encoded data removed]",
      "text/plain": [
       "<Figure size 432x288 with 1 Axes>"
      ]
     },
     "metadata": {
      "needs_background": "light"
     },
     "output_type": "display_data"
    },
    {
     "data": {
      "image/png": "[encoded data removed]",
      "text/plain": [
       "<Figure size 432x288 with 1 Axes>"
      ]
     },
     "metadata": {
      "needs_background": "light"
     },
     "output_type": "display_data"
    },
    {
     "data": {
      "image/png": "[encoded data removed]",
      "text/plain": [
       "<Figure size 432x288 with 1 Axes>"
      ]
     },
     "metadata": {
      "needs_background": "light"
     },
     "output_type": "display_data"
    },
    {
     "data": {
      "image/png": "[encoded data removed]",
      "text/plain": [
       "<Figure size 432x288 with 1 Axes>"
      ]
     },
     "metadata": {
      "needs_background": "light"
     },
     "output_type": "display_data"
    },
    {
     "data": {
      "image/png": "[encoded data removed]",
      "text/plain": [
       "<Figure size 432x288 with 1 Axes>"
      ]
     },
     "metadata": {
      "needs_background": "light"
     },
     "output_type": "display_data"
    }
   ],
   "source": [
    "for col in gym.drop('churn', axis = 1).columns:\n",
    "    sns.scatterplot(gym[col], gym['churn'])\n",
    "    plt.show()"
   ]
  },
  {
   "cell_type": "markdown",
   "metadata": {},
   "source": [
    "Ярких выбросов и перекосов по диаграммам рассеяния не наблюдается. "
   ]
  },
  {
   "cell_type": "code",
   "execution_count": 6,
   "metadata": {},
   "outputs": [
    {
     "data": {
      "image/png": "[encoded data removed]",
      "text/plain": [
       "<Figure size 792x792 with 2 Axes>"
      ]
     },
     "metadata": {
      "needs_background": "light"
     },
     "output_type": "display_data"
    }
   ],
   "source": [
    "cm = gym.corr()\n",
    "fig, ax = plt.subplots(figsize = (11, 11))\n",
    "ax = sns.heatmap(cm, annot=True, square=True)  \n",
    "plt.show()"
   ]
  },
  {
   "cell_type": "markdown",
   "metadata": {},
   "source": [
    "Признаков, сильно коррелирующих с фактом оттока, нет. При этом ожидаемо между собой очень сильно коррелируют средняя частота посещений в неделю за все время с начала действия абонемента и за предыдущий месяц, а также длительность текущего действующего абонемента и срок до его окончания."
   ]
  },
  {
   "cell_type": "markdown",
   "metadata": {},
   "source": [
    "## Построение модели прогнозирования оттока клиентов\n",
    "<a id='2'></a>"
   ]
  },
  {
   "cell_type": "code",
   "execution_count": 7,
   "metadata": {},
   "outputs": [],
   "source": [
    "X = gym.drop('churn', axis = 1)\n",
    "y = gym['churn']\n",
    "\n",
    "X_train, X_test, y_train, y_test = train_test_split(X, y, test_size=0.2, random_state=0)"
   ]
  },
  {
   "cell_type": "markdown",
   "metadata": {},
   "source": [
    "### Логистическая регрессия\n",
    "<a id='2.1'></a>"
   ]
  },
  {
   "cell_type": "markdown",
   "metadata": {},
   "source": [
    "Так как классы не сбалансированы (1061 клиентов, попавших в отток против 2939 оставшихся), сместим порог вниз. Рассчитаем модели и метрики для порога 0.3 и 0.4"
   ]
  },
  {
   "cell_type": "code",
   "execution_count": 8,
   "metadata": {},
   "outputs": [
    {
     "name": "stdout",
     "output_type": "stream",
     "text": [
      "Метрики для прогноза с кастомным порогом 0.4\n",
      "Accuracy: 0.92\n",
      "Precision: 0.82\n",
      "Recall: 0.86\n",
      "F1: 0.84\n",
      "Метрики для прогноза с кастомным порогом 0.3\n",
      "Accuracy: 0.91\n",
      "Precision: 0.77\n",
      "Recall: 0.89\n",
      "F1: 0.83\n"
     ]
    }
   ],
   "source": [
    "scaler = StandardScaler()\n",
    "scaler.fit(X_train)\n",
    "\n",
    "X_train_st = scaler.transform(X_train)\n",
    "X_test_st = scaler.transform(X_test)\n",
    "\n",
    "lr_model = LogisticRegression(solver='liblinear', random_state=0)\n",
    "\n",
    "lr_model.fit(X_train_st, y_train)\n",
    "\n",
    "lr_predictions = lr_model.predict(X_test_st)\n",
    "\n",
    "lr_probabilities = lr_model.predict_proba(X_test_st)[:, 1]\n",
    "\n",
    "threshold = 0.4\n",
    "threshold2 = 0.3\n",
    "\n",
    "custom_predictions = [0 if i < threshold else 1 for i in lr_probabilities]\n",
    "custom_predictions2 = [0 if i < threshold2 else 1 for i in lr_probabilities]\n",
    "\n",
    "def metrics_print (pred):\n",
    "    print('Accuracy: {:.2f}'.format(accuracy_score(y_test, pred)))\n",
    "    print('Precision: {:.2f}'.format(precision_score(y_test, pred)))\n",
    "    print('Recall: {:.2f}'.format(recall_score(y_test, pred)))\n",
    "    print('F1: {:.2f}'.format(f1_score(y_test, pred)))\n",
    "    \n",
    "print('Метрики для прогноза с кастомным порогом', threshold)\n",
    "metrics_print (custom_predictions)\n",
    "print('Метрики для прогноза с кастомным порогом', threshold2)\n",
    "metrics_print (custom_predictions2)"
   ]
  },
  {
   "cell_type": "markdown",
   "metadata": {},
   "source": [
    "Модель, построенная с учетом порога в 0,3, выглядит более привлекательной, т.к. метрика recall заметно выше, а в ситуации, когда важно не упустить клиентов, которые  уйдут, лучше ориентироваться именно на метрику полноты."
   ]
  },
  {
   "cell_type": "markdown",
   "metadata": {},
   "source": [
    "### Случайный лес\n",
    "<a id='2.2'></a>"
   ]
  },
  {
   "cell_type": "code",
   "execution_count": 9,
   "metadata": {},
   "outputs": [
    {
     "name": "stdout",
     "output_type": "stream",
     "text": [
      "Accuracy: 0.92\n",
      "Precision: 0.84\n",
      "Recall: 0.82\n",
      "F1: 0.83\n"
     ]
    }
   ],
   "source": [
    "rf_model = RandomForestClassifier(n_estimators = 100, random_state = 0) \n",
    "rf_model.fit(X_train, y_train)\n",
    "rf_predictions = rf_model.predict(X_test) \n",
    "rf_probabilities = rf_model.predict_proba(X_test)[:, 1] \n",
    "\n",
    "metrics_print (rf_predictions)"
   ]
  },
  {
   "cell_type": "markdown",
   "metadata": {},
   "source": [
    "Обе модели работают довольно неплохо, в основном их метрики различаются незначительно. Но наиболее важная метрика recall ощутимо выше у модели, построенной с помощью логистической регрессии. Таким образом, на основании метрики полноты, модель логистической регрессии показала себя лучше."
   ]
  },
  {
   "cell_type": "code",
   "execution_count": 10,
   "metadata": {},
   "outputs": [
    {
     "name": "stdout",
     "output_type": "stream",
     "text": [
      "                              feature     coeff  abs_coeff\n",
      "12  avg_class_frequency_current_month -4.426492   4.426492\n",
      "10                           lifetime -3.720057   3.720057\n",
      "11          avg_class_frequency_total  3.290506   3.290506\n",
      "7                                 age -1.074359   1.074359\n",
      "5                     contract_period -0.703741   0.703741\n",
      "8        avg_additional_charges_total -0.541020   0.541020\n",
      "9               month_to_end_contract -0.520089   0.520089\n",
      "6                        group_visits -0.385778   0.385778\n",
      "3                       promo_friends -0.268180   0.268180\n",
      "2                             partner -0.082845   0.082845\n",
      "1                       near_location -0.075301   0.075301\n",
      "0                              gender -0.013051   0.013051\n",
      "4                               phone  0.005220   0.005220\n",
      "\n",
      "                              feature  importance\n",
      "10                           lifetime    0.276499\n",
      "12  avg_class_frequency_current_month    0.180170\n",
      "11          avg_class_frequency_total    0.129883\n",
      "7                                 age    0.119129\n",
      "8        avg_additional_charges_total    0.091473\n",
      "9               month_to_end_contract    0.068855\n",
      "5                     contract_period    0.065964\n",
      "6                        group_visits    0.015652\n",
      "0                              gender    0.012425\n",
      "2                             partner    0.012285\n",
      "3                       promo_friends    0.012053\n",
      "1                       near_location    0.009421\n",
      "4                               phone    0.006192\n"
     ]
    }
   ],
   "source": [
    "lr_df = pd.DataFrame(\n",
    "    data={'feature': X.columns, 'coeff': lr_model.coef_[0]}\n",
    ")\n",
    "lr_df['abs_coeff'] = abs(lr_df['coeff'])\n",
    "print(lr_df.sort_values('abs_coeff', ascending=False))\n",
    "\n",
    "print()\n",
    "\n",
    "rf_df = pd.DataFrame(\n",
    "    data={'feature': X.columns, 'importance': rf_model.feature_importances_}\n",
    ")\n",
    "print(rf_df.sort_values('importance', ascending=False))\n"
   ]
  },
  {
   "cell_type": "markdown",
   "metadata": {},
   "source": [
    "Для обеих моделей наиболее важными признаками оказались время с момента первого обращения в фитнес-центр, средняя частота посещений в неделю за все время с начала действия абонемента и средняя частота посещений в неделю за предыдущий месяц.  "
   ]
  },
  {
   "cell_type": "markdown",
   "metadata": {},
   "source": [
    "## Кластеризация клиентов\n",
    "<a id='3'></a>"
   ]
  },
  {
   "cell_type": "markdown",
   "metadata": {},
   "source": [
    "### Дендрограмма\n",
    "<a id='3.1'></a>"
   ]
  },
  {
   "cell_type": "code",
   "execution_count": 11,
   "metadata": {},
   "outputs": [
    {
     "data": {
      "image/png": "[encoded data removed]",
      "text/plain": [
       "<Figure size 1224x720 with 1 Axes>"
      ]
     },
     "metadata": {
      "needs_background": "light"
     },
     "output_type": "display_data"
    }
   ],
   "source": [
    "sc = StandardScaler() \n",
    "X_sc = sc.fit_transform(X) \n",
    "linked = linkage(X_sc, method = 'ward') \n",
    "plt.figure(figsize=(17, 10))  \n",
    "dendrogram(linked, orientation='top')\n",
    "plt.show() "
   ]
  },
  {
   "cell_type": "markdown",
   "metadata": {},
   "source": [
    "На основании дендрограммы можно сказать, что целесообразно выделить 4-6 кластеров."
   ]
  },
  {
   "cell_type": "markdown",
   "metadata": {},
   "source": [
    "### Модель кластеризации на основании алгоритма K-Means\n",
    "<a id='3.2'></a>"
   ]
  },
  {
   "cell_type": "code",
   "execution_count": 12,
   "metadata": {},
   "outputs": [
    {
     "data": {
      "text/html": [
       "<div>\n",
       "<style scoped>\n",
       "    .dataframe tbody tr th:only-of-type {\n",
       "        vertical-align: middle;\n",
       "    }\n",
       "\n",
       "    .dataframe tbody tr th {\n",
       "        vertical-align: top;\n",
       "    }\n",
       "\n",
       "    .dataframe thead th {\n",
       "        text-align: right;\n",
       "    }\n",
       "</style>\n",
       "<table border=\"1\" class=\"dataframe\">\n",
       "  <thead>\n",
       "    <tr style=\"text-align: right;\">\n",
       "      <th></th>\n",
       "      <th>gender</th>\n",
       "      <th>near_location</th>\n",
       "      <th>partner</th>\n",
       "      <th>promo_friends</th>\n",
       "      <th>phone</th>\n",
       "      <th>contract_period</th>\n",
       "      <th>group_visits</th>\n",
       "      <th>age</th>\n",
       "      <th>avg_additional_charges_total</th>\n",
       "      <th>month_to_end_contract</th>\n",
       "      <th>lifetime</th>\n",
       "      <th>avg_class_frequency_total</th>\n",
       "      <th>avg_class_frequency_current_month</th>\n",
       "      <th>churn</th>\n",
       "    </tr>\n",
       "    <tr>\n",
       "      <th>cluster_km</th>\n",
       "      <th></th>\n",
       "      <th></th>\n",
       "      <th></th>\n",
       "      <th></th>\n",
       "      <th></th>\n",
       "      <th></th>\n",
       "      <th></th>\n",
       "      <th></th>\n",
       "      <th></th>\n",
       "      <th></th>\n",
       "      <th></th>\n",
       "      <th></th>\n",
       "      <th></th>\n",
       "      <th></th>\n",
       "    </tr>\n",
       "  </thead>\n",
       "  <tbody>\n",
       "    <tr>\n",
       "      <td>0</td>\n",
       "      <td>0.502473</td>\n",
       "      <td>0.959446</td>\n",
       "      <td>0.783383</td>\n",
       "      <td>0.574679</td>\n",
       "      <td>1.000000</td>\n",
       "      <td>10.884273</td>\n",
       "      <td>0.543027</td>\n",
       "      <td>29.980218</td>\n",
       "      <td>160.706969</td>\n",
       "      <td>9.950544</td>\n",
       "      <td>4.738872</td>\n",
       "      <td>1.983305</td>\n",
       "      <td>1.976225</td>\n",
       "      <td>0.027695</td>\n",
       "    </tr>\n",
       "    <tr>\n",
       "      <td>1</td>\n",
       "      <td>0.522078</td>\n",
       "      <td>0.862338</td>\n",
       "      <td>0.470130</td>\n",
       "      <td>0.306494</td>\n",
       "      <td>0.000000</td>\n",
       "      <td>4.787013</td>\n",
       "      <td>0.425974</td>\n",
       "      <td>29.301299</td>\n",
       "      <td>143.957664</td>\n",
       "      <td>4.475325</td>\n",
       "      <td>3.924675</td>\n",
       "      <td>1.847220</td>\n",
       "      <td>1.716369</td>\n",
       "      <td>0.267532</td>\n",
       "    </tr>\n",
       "    <tr>\n",
       "      <td>2</td>\n",
       "      <td>0.495050</td>\n",
       "      <td>0.000000</td>\n",
       "      <td>0.463366</td>\n",
       "      <td>0.079208</td>\n",
       "      <td>1.000000</td>\n",
       "      <td>2.352475</td>\n",
       "      <td>0.215842</td>\n",
       "      <td>28.477228</td>\n",
       "      <td>135.457501</td>\n",
       "      <td>2.198020</td>\n",
       "      <td>2.809901</td>\n",
       "      <td>1.660461</td>\n",
       "      <td>1.477324</td>\n",
       "      <td>0.443564</td>\n",
       "    </tr>\n",
       "    <tr>\n",
       "      <td>3</td>\n",
       "      <td>0.485737</td>\n",
       "      <td>1.000000</td>\n",
       "      <td>0.350238</td>\n",
       "      <td>0.240095</td>\n",
       "      <td>1.000000</td>\n",
       "      <td>1.948494</td>\n",
       "      <td>0.341521</td>\n",
       "      <td>28.167987</td>\n",
       "      <td>131.622204</td>\n",
       "      <td>1.856577</td>\n",
       "      <td>2.440571</td>\n",
       "      <td>1.247634</td>\n",
       "      <td>1.012983</td>\n",
       "      <td>0.514263</td>\n",
       "    </tr>\n",
       "    <tr>\n",
       "      <td>4</td>\n",
       "      <td>0.560335</td>\n",
       "      <td>0.976105</td>\n",
       "      <td>0.356033</td>\n",
       "      <td>0.229391</td>\n",
       "      <td>0.998805</td>\n",
       "      <td>2.665472</td>\n",
       "      <td>0.473118</td>\n",
       "      <td>30.127838</td>\n",
       "      <td>161.724258</td>\n",
       "      <td>2.455197</td>\n",
       "      <td>4.896057</td>\n",
       "      <td>2.851531</td>\n",
       "      <td>2.849473</td>\n",
       "      <td>0.068100</td>\n",
       "    </tr>\n",
       "  </tbody>\n",
       "</table>\n",
       "</div>"
      ],
      "text/plain": [
       "              gender  near_location   partner  promo_friends     phone  \\\n",
       "cluster_km                                                               \n",
       "0           0.502473       0.959446  0.783383       0.574679  1.000000   \n",
       "1           0.522078       0.862338  0.470130       0.306494  0.000000   \n",
       "2           0.495050       0.000000  0.463366       0.079208  1.000000   \n",
       "3           0.485737       1.000000  0.350238       0.240095  1.000000   \n",
       "4           0.560335       0.976105  0.356033       0.229391  0.998805   \n",
       "\n",
       "            contract_period  group_visits        age  \\\n",
       "cluster_km                                             \n",
       "0                 10.884273      0.543027  29.980218   \n",
       "1                  4.787013      0.425974  29.301299   \n",
       "2                  2.352475      0.215842  28.477228   \n",
       "3                  1.948494      0.341521  28.167987   \n",
       "4                  2.665472      0.473118  30.127838   \n",
       "\n",
       "            avg_additional_charges_total  month_to_end_contract  lifetime  \\\n",
       "cluster_km                                                                  \n",
       "0                             160.706969               9.950544  4.738872   \n",
       "1                             143.957664               4.475325  3.924675   \n",
       "2                             135.457501               2.198020  2.809901   \n",
       "3                             131.622204               1.856577  2.440571   \n",
       "4                             161.724258               2.455197  4.896057   \n",
       "\n",
       "            avg_class_frequency_total  avg_class_frequency_current_month  \\\n",
       "cluster_km                                                                 \n",
       "0                            1.983305                           1.976225   \n",
       "1                            1.847220                           1.716369   \n",
       "2                            1.660461                           1.477324   \n",
       "3                            1.247634                           1.012983   \n",
       "4                            2.851531                           2.849473   \n",
       "\n",
       "               churn  \n",
       "cluster_km            \n",
       "0           0.027695  \n",
       "1           0.267532  \n",
       "2           0.443564  \n",
       "3           0.514263  \n",
       "4           0.068100  "
      ]
     },
     "execution_count": 12,
     "metadata": {},
     "output_type": "execute_result"
    }
   ],
   "source": [
    "km = KMeans(n_clusters = 5, random_state=0) \n",
    "labels = km.fit_predict(X_sc)\n",
    "gym['cluster_km'] = labels\n",
    "\n",
    "gym.groupby(['cluster_km']).mean()"
   ]
  },
  {
   "cell_type": "markdown",
   "metadata": {},
   "source": [
    "Можно заметить, что есть явное различие по некоторым кластерам в средних показателях времени с момента первого обращения в фитнес-центр, длительности текущего абонемента, срока до его окончания и суммарной выручки от других услуг фитнес-центра. При этом ни по полу, ни по возрасту клиентов существенных отличий между кластерами нет."
   ]
  },
  {
   "cell_type": "code",
   "execution_count": 13,
   "metadata": {},
   "outputs": [
    {
     "name": "stdout",
     "output_type": "stream",
     "text": [
      "Silhouette_score: 0.14\n"
     ]
    }
   ],
   "source": [
    "from sklearn.metrics import silhouette_score\n",
    "print('Silhouette_score: {:.2f}'.format(silhouette_score(X_sc, labels)))"
   ]
  },
  {
   "cell_type": "markdown",
   "metadata": {},
   "source": [
    "Однако метрика силуэта, показывающая, насколько объект своего кластера похож на свой кластер больше, чем на чужой, не высокая."
   ]
  },
  {
   "cell_type": "code",
   "execution_count": 14,
   "metadata": {},
   "outputs": [
    {
     "name": "stdout",
     "output_type": "stream",
     "text": [
      "Доля оттока клиентов по кластерам, %:\n"
     ]
    },
    {
     "data": {
      "text/plain": [
       "cluster_km\n",
       "0     2.769535\n",
       "1    26.753247\n",
       "2    44.356436\n",
       "3    51.426307\n",
       "4     6.810036\n",
       "Name: churn, dtype: float64"
      ]
     },
     "execution_count": 14,
     "metadata": {},
     "output_type": "execute_result"
    }
   ],
   "source": [
    "print('Доля оттока клиентов по кластерам, %:') \n",
    "gym.groupby(['cluster_km'])['churn'].mean()*100"
   ]
  },
  {
   "cell_type": "markdown",
   "metadata": {},
   "source": [
    "Некоторые кластеры очень существенно отличаются по доле оттока.  \n",
    "Наибольшая доля оттока (около половины клиентов) наблюдается в тех кластерах, где меньше всего средние значения суммарной выручки от доп.услуг фитнес-центра, времени с момента первого обращения в фитнес-центр, длительности текущего абонемента и срока до его окончания.  \n",
    "В самом надежном кластере (меньше 3% оттока) клиенты в среднем тратят на доп.услуги больше всего денег, приобретают абонементы на долгий срок, на при этом с момента их первого обращения прошло в среднем больше 4 месяцев, а среднее количество месяцев до конца абонемента - почти 10. Кроме того, более половины клиентов наиболее надежного кластера пришли в рамках акции «приведи друга», тогда как в кластерах с самым большим оттоком таких гораздо меньше. А также клиенты из кластеров с меньшим оттоком в среднем примерно в два раза чаще посещают групповые занятия."
   ]
  },
  {
   "cell_type": "markdown",
   "metadata": {},
   "source": [
    "## Выводы и рекомендации\n",
    "<a id='4'></a>"
   ]
  },
  {
   "cell_type": "markdown",
   "metadata": {},
   "source": [
    "Модель, построенная на основе логистической регрессии, показывает лучший результат, чем алгоритм случайный лес, в прогнозировании факта оттока клиента в следующем месяце.  \n",
    "По итогам кластеризации можно сделать вывод, что есть явное различие по некоторым кластерам в средних показателях времени с момента первого обращения в фитнес-центр, длительности текущего абонемента, срока до его окончания, суммарной выручки от других услуг фитнес-центра, а также посещения групповых занятий. При этом ни по полу, ни по возрасту клиентов существенных отличий между кластерами нет.  \n",
    "Для уменьшения оттока клиентов можно попробовать реализовать следующие шаги:\n",
    "- Заинтересовать клиентов в приобретении дополнительных услуг, в том числе, например, с помощью пробных бесплатных сеансов массажа/косметических процедур и т.п. или, наоборот, предоставляя, к примеру, пятый сеанс массажа в подарок при посещении четырех; накопительную скидку на приобретение спорттоваров и т.д.\n",
    "- Стимулировать клиентов посещать групповые занятия, в том числе расширяя их виды и оптимизируя расписание\n",
    "- Мотивировать клиентов приглашать друзей по программе \"приведи друга\"(предпочтительнее абонементы более полугода), предоставляя за каждого клиента какой-либо бонус\n",
    "- Предлагать привлекательные условия продления абонементов, когда они подходят к концу, и заинтересовывать и новых, и постоянных клиентов в приобретении наиболее долгосрочных абонементов.  \n",
    "  \n",
    "И, конечно же, в целом обеспечивать максимально ненавязчивый, клиентоориентированый сервис. \n"
   ]
  }
 ],
 "metadata": {
  "ExecuteTimeLog": [
   {
    "duration": 602,
    "start_time": "2021-08-29T14:46:24.778Z"
   },
   {
    "duration": 51,
    "start_time": "2021-08-29T14:46:43.358Z"
   },
   {
    "duration": 34,
    "start_time": "2021-08-29T14:46:53.878Z"
   },
   {
    "duration": 73,
    "start_time": "2021-08-29T14:51:56.999Z"
   },
   {
    "duration": 323,
    "start_time": "2021-08-29T14:57:44.440Z"
   },
   {
    "duration": 262,
    "start_time": "2021-08-29T14:58:00.108Z"
   },
   {
    "duration": 76,
    "start_time": "2021-08-29T14:58:08.670Z"
   },
   {
    "duration": 80,
    "start_time": "2021-08-29T15:00:10.241Z"
   },
   {
    "duration": 81,
    "start_time": "2021-08-29T15:02:45.636Z"
   },
   {
    "duration": 93,
    "start_time": "2021-08-29T15:02:48.521Z"
   },
   {
    "duration": 7,
    "start_time": "2021-08-29T15:06:13.746Z"
   },
   {
    "duration": 617,
    "start_time": "2021-08-29T15:44:15.228Z"
   },
   {
    "duration": 123,
    "start_time": "2021-08-29T15:44:15.847Z"
   },
   {
    "duration": 640,
    "start_time": "2021-08-29T15:44:58.488Z"
   },
   {
    "duration": 119,
    "start_time": "2021-08-29T15:44:59.130Z"
   },
   {
    "duration": 300,
    "start_time": "2021-08-29T16:26:04.660Z"
   },
   {
    "duration": 1162,
    "start_time": "2021-08-29T16:26:30.325Z"
   },
   {
    "duration": 112,
    "start_time": "2021-08-29T16:26:31.489Z"
   },
   {
    "duration": 922,
    "start_time": "2021-08-29T16:26:31.603Z"
   },
   {
    "duration": 444,
    "start_time": "2021-08-29T16:29:42.703Z"
   },
   {
    "duration": 362,
    "start_time": "2021-08-29T16:29:55.324Z"
   },
   {
    "duration": 1000,
    "start_time": "2021-08-29T16:30:07.117Z"
   },
   {
    "duration": 974,
    "start_time": "2021-08-29T16:30:18.072Z"
   },
   {
    "duration": 890,
    "start_time": "2021-08-29T16:30:44.824Z"
   },
   {
    "duration": 814,
    "start_time": "2021-08-29T16:30:53.221Z"
   },
   {
    "duration": 1049,
    "start_time": "2021-08-29T16:31:07.478Z"
   },
   {
    "duration": 1146,
    "start_time": "2021-08-29T16:35:32.781Z"
   },
   {
    "duration": 1084,
    "start_time": "2021-08-29T16:35:46.604Z"
   },
   {
    "duration": 1007,
    "start_time": "2021-08-29T16:35:59.124Z"
   },
   {
    "duration": 247,
    "start_time": "2021-08-29T16:48:52.564Z"
   },
   {
    "duration": 4037,
    "start_time": "2021-08-29T16:49:08.563Z"
   },
   {
    "duration": 249,
    "start_time": "2021-08-29T16:53:01.159Z"
   },
   {
    "duration": 1187,
    "start_time": "2021-08-29T16:55:18.883Z"
   },
   {
    "duration": 111,
    "start_time": "2021-08-29T16:55:20.073Z"
   },
   {
    "duration": 337,
    "start_time": "2021-08-29T16:55:20.186Z"
   },
   {
    "duration": 191187,
    "start_time": "2021-08-29T16:52:09.338Z"
   },
   {
    "duration": 245,
    "start_time": "2021-08-29T16:55:44.540Z"
   },
   {
    "duration": 249,
    "start_time": "2021-08-29T16:59:23.963Z"
   },
   {
    "duration": 521,
    "start_time": "2021-08-29T16:59:31.405Z"
   },
   {
    "duration": 2062,
    "start_time": "2021-08-29T16:59:43.270Z"
   },
   {
    "duration": 4996,
    "start_time": "2021-08-29T17:00:42.808Z"
   },
   {
    "duration": 4004,
    "start_time": "2021-08-29T17:09:41.689Z"
   },
   {
    "duration": 1174,
    "start_time": "2021-08-29T17:13:29.520Z"
   },
   {
    "duration": 123,
    "start_time": "2021-08-29T17:13:30.696Z"
   },
   {
    "duration": 2876,
    "start_time": "2021-08-29T17:13:30.822Z"
   },
   {
    "duration": 4011,
    "start_time": "2021-08-29T17:13:33.699Z"
   },
   {
    "duration": 1032,
    "start_time": "2021-08-29T17:13:37.712Z"
   },
   {
    "duration": 1245,
    "start_time": "2021-08-29T17:19:55.560Z"
   },
   {
    "duration": 118,
    "start_time": "2021-08-29T17:19:56.807Z"
   },
   {
    "duration": 2963,
    "start_time": "2021-08-29T17:19:56.928Z"
   },
   {
    "duration": 4010,
    "start_time": "2021-08-29T17:19:59.893Z"
   },
   {
    "duration": 1079,
    "start_time": "2021-08-29T17:20:03.905Z"
   },
   {
    "duration": 10,
    "start_time": "2021-08-29T17:20:04.985Z"
   },
   {
    "duration": 1240,
    "start_time": "2021-08-29T17:31:09.806Z"
   },
   {
    "duration": 128,
    "start_time": "2021-08-29T17:31:11.048Z"
   },
   {
    "duration": 3263,
    "start_time": "2021-08-29T17:31:11.178Z"
   },
   {
    "duration": 3997,
    "start_time": "2021-08-29T17:31:14.443Z"
   },
   {
    "duration": 1129,
    "start_time": "2021-08-29T17:31:18.442Z"
   },
   {
    "duration": 18,
    "start_time": "2021-08-29T17:31:19.573Z"
   },
   {
    "duration": 114,
    "start_time": "2021-08-29T17:31:19.594Z"
   },
   {
    "duration": 205,
    "start_time": "2021-08-29T17:32:15.197Z"
   },
   {
    "duration": 1217,
    "start_time": "2021-08-29T17:33:51.655Z"
   },
   {
    "duration": 122,
    "start_time": "2021-08-29T17:33:52.874Z"
   },
   {
    "duration": 3156,
    "start_time": "2021-08-29T17:33:52.999Z"
   },
   {
    "duration": 4068,
    "start_time": "2021-08-29T17:33:56.157Z"
   },
   {
    "duration": 1130,
    "start_time": "2021-08-29T17:34:00.227Z"
   },
   {
    "duration": 8,
    "start_time": "2021-08-29T17:34:01.359Z"
   },
   {
    "duration": 96,
    "start_time": "2021-08-29T17:34:01.369Z"
   },
   {
    "duration": 108,
    "start_time": "2021-08-29T17:34:21.393Z"
   },
   {
    "duration": 130,
    "start_time": "2021-08-29T17:35:31.776Z"
   },
   {
    "duration": 420,
    "start_time": "2021-08-29T17:41:48.433Z"
   },
   {
    "duration": 1252,
    "start_time": "2021-08-29T17:41:55.658Z"
   },
   {
    "duration": 115,
    "start_time": "2021-08-29T17:41:56.912Z"
   },
   {
    "duration": 2833,
    "start_time": "2021-08-29T17:41:57.029Z"
   },
   {
    "duration": 4017,
    "start_time": "2021-08-29T17:41:59.864Z"
   },
   {
    "duration": 1029,
    "start_time": "2021-08-29T17:42:03.882Z"
   },
   {
    "duration": 7,
    "start_time": "2021-08-29T17:42:04.912Z"
   },
   {
    "duration": 183,
    "start_time": "2021-08-29T17:42:04.920Z"
   },
   {
    "duration": 409,
    "start_time": "2021-08-29T17:42:05.106Z"
   },
   {
    "duration": 211,
    "start_time": "2021-08-29T18:01:40.883Z"
   },
   {
    "duration": 1363,
    "start_time": "2021-08-29T18:02:44.594Z"
   },
   {
    "duration": 128,
    "start_time": "2021-08-29T18:02:45.959Z"
   },
   {
    "duration": 3082,
    "start_time": "2021-08-29T18:02:46.089Z"
   },
   {
    "duration": 4061,
    "start_time": "2021-08-29T18:02:49.173Z"
   },
   {
    "duration": 1252,
    "start_time": "2021-08-29T18:02:53.235Z"
   },
   {
    "duration": 8,
    "start_time": "2021-08-29T18:02:54.492Z"
   },
   {
    "duration": 105,
    "start_time": "2021-08-29T18:02:54.502Z"
   },
   {
    "duration": 348,
    "start_time": "2021-08-29T18:02:54.694Z"
   },
   {
    "duration": 482,
    "start_time": "2021-08-29T18:04:49.183Z"
   },
   {
    "duration": 1267,
    "start_time": "2021-08-29T18:05:07.271Z"
   },
   {
    "duration": 123,
    "start_time": "2021-08-29T18:05:08.540Z"
   },
   {
    "duration": 2947,
    "start_time": "2021-08-29T18:05:08.665Z"
   },
   {
    "duration": 4003,
    "start_time": "2021-08-29T18:05:11.614Z"
   },
   {
    "duration": 1050,
    "start_time": "2021-08-29T18:05:15.619Z"
   },
   {
    "duration": 7,
    "start_time": "2021-08-29T18:05:16.671Z"
   },
   {
    "duration": 214,
    "start_time": "2021-08-29T18:05:16.680Z"
   },
   {
    "duration": 330,
    "start_time": "2021-08-29T18:05:16.896Z"
   },
   {
    "duration": 320,
    "start_time": "2021-08-29T18:06:04.348Z"
   },
   {
    "duration": 130,
    "start_time": "2021-08-29T18:07:10.967Z"
   },
   {
    "duration": 333,
    "start_time": "2021-08-29T18:07:13.448Z"
   },
   {
    "duration": 12,
    "start_time": "2021-08-29T18:19:45.913Z"
   },
   {
    "duration": 9,
    "start_time": "2021-08-29T18:20:38.153Z"
   },
   {
    "duration": 7,
    "start_time": "2021-08-29T18:20:52.277Z"
   },
   {
    "duration": 1242,
    "start_time": "2021-08-29T18:22:30.846Z"
   },
   {
    "duration": 125,
    "start_time": "2021-08-29T18:22:32.090Z"
   },
   {
    "duration": 3021,
    "start_time": "2021-08-29T18:22:32.218Z"
   },
   {
    "duration": 4098,
    "start_time": "2021-08-29T18:22:35.242Z"
   },
   {
    "duration": 1111,
    "start_time": "2021-08-29T18:22:39.342Z"
   },
   {
    "duration": 7,
    "start_time": "2021-08-29T18:22:40.455Z"
   },
   {
    "duration": 141,
    "start_time": "2021-08-29T18:22:40.464Z"
   },
   {
    "duration": 406,
    "start_time": "2021-08-29T18:22:40.695Z"
   },
   {
    "duration": 371,
    "start_time": "2021-08-29T18:22:41.104Z"
   },
   {
    "duration": 83758,
    "start_time": "2021-08-29T18:22:56.017Z"
   },
   {
    "duration": 1395,
    "start_time": "2021-08-29T18:32:14.512Z"
   },
   {
    "duration": 1352,
    "start_time": "2021-08-29T18:39:21.366Z"
   },
   {
    "duration": 1772,
    "start_time": "2021-08-29T18:39:38.343Z"
   },
   {
    "duration": 823,
    "start_time": "2021-08-29T18:41:06.786Z"
   },
   {
    "duration": 1510,
    "start_time": "2021-08-29T18:41:17.103Z"
   },
   {
    "duration": 1663,
    "start_time": "2021-08-29T18:41:36.148Z"
   },
   {
    "duration": 1559,
    "start_time": "2021-08-29T18:41:47.446Z"
   },
   {
    "duration": 1499,
    "start_time": "2021-08-29T18:45:40.315Z"
   },
   {
    "duration": 1201,
    "start_time": "2021-08-29T18:46:05.907Z"
   },
   {
    "duration": 1502,
    "start_time": "2021-08-29T18:46:41.406Z"
   },
   {
    "duration": 1597,
    "start_time": "2021-08-29T18:47:05.313Z"
   },
   {
    "duration": 1293,
    "start_time": "2021-08-29T18:47:36.177Z"
   },
   {
    "duration": 130,
    "start_time": "2021-08-29T18:47:37.473Z"
   },
   {
    "duration": 3137,
    "start_time": "2021-08-29T18:47:37.606Z"
   },
   {
    "duration": 4193,
    "start_time": "2021-08-29T18:47:40.745Z"
   },
   {
    "duration": 1115,
    "start_time": "2021-08-29T18:47:44.940Z"
   },
   {
    "duration": 7,
    "start_time": "2021-08-29T18:47:46.057Z"
   },
   {
    "duration": 233,
    "start_time": "2021-08-29T18:47:46.066Z"
   },
   {
    "duration": 431,
    "start_time": "2021-08-29T18:47:46.301Z"
   },
   {
    "duration": 5,
    "start_time": "2021-08-29T18:47:46.734Z"
   },
   {
    "duration": 1153,
    "start_time": "2021-08-29T18:47:46.741Z"
   },
   {
    "duration": 1568,
    "start_time": "2021-08-29T18:48:14.945Z"
   },
   {
    "duration": 204,
    "start_time": "2021-08-29T18:48:16.515Z"
   },
   {
    "duration": 3420,
    "start_time": "2021-08-29T18:48:16.721Z"
   },
   {
    "duration": 3969,
    "start_time": "2021-08-29T18:48:20.143Z"
   },
   {
    "duration": 1075,
    "start_time": "2021-08-29T18:48:24.114Z"
   },
   {
    "duration": 11,
    "start_time": "2021-08-29T18:48:25.191Z"
   },
   {
    "duration": 288,
    "start_time": "2021-08-29T18:48:25.205Z"
   },
   {
    "duration": 366,
    "start_time": "2021-08-29T18:48:25.496Z"
   },
   {
    "duration": 5,
    "start_time": "2021-08-29T18:48:25.864Z"
   },
   {
    "duration": 1452,
    "start_time": "2021-08-29T18:48:25.871Z"
   },
   {
    "duration": 1280,
    "start_time": "2021-08-29T18:48:46.485Z"
   },
   {
    "duration": 120,
    "start_time": "2021-08-29T18:48:47.767Z"
   },
   {
    "duration": 3410,
    "start_time": "2021-08-29T18:48:47.893Z"
   },
   {
    "duration": 4297,
    "start_time": "2021-08-29T18:48:51.305Z"
   },
   {
    "duration": 1654,
    "start_time": "2021-08-29T18:48:55.605Z"
   },
   {
    "duration": 9,
    "start_time": "2021-08-29T18:48:57.261Z"
   },
   {
    "duration": 325,
    "start_time": "2021-08-29T18:48:57.272Z"
   },
   {
    "duration": 592,
    "start_time": "2021-08-29T18:48:57.600Z"
   },
   {
    "duration": 9,
    "start_time": "2021-08-29T18:48:58.195Z"
   },
   {
    "duration": 1095,
    "start_time": "2021-08-29T18:48:58.207Z"
   },
   {
    "duration": 1332,
    "start_time": "2021-08-29T18:50:45.674Z"
   },
   {
    "duration": 1480,
    "start_time": "2021-08-29T18:50:59.247Z"
   },
   {
    "duration": 1321,
    "start_time": "2021-08-29T18:52:09.139Z"
   },
   {
    "duration": 133,
    "start_time": "2021-08-29T18:52:10.462Z"
   },
   {
    "duration": 3733,
    "start_time": "2021-08-29T18:52:10.599Z"
   },
   {
    "duration": 4308,
    "start_time": "2021-08-29T18:52:14.335Z"
   },
   {
    "duration": 1178,
    "start_time": "2021-08-29T18:52:18.645Z"
   },
   {
    "duration": 7,
    "start_time": "2021-08-29T18:52:19.825Z"
   },
   {
    "duration": 175,
    "start_time": "2021-08-29T18:52:19.834Z"
   },
   {
    "duration": 362,
    "start_time": "2021-08-29T18:52:20.099Z"
   },
   {
    "duration": 6,
    "start_time": "2021-08-29T18:52:20.463Z"
   },
   {
    "duration": 1057,
    "start_time": "2021-08-29T18:52:20.471Z"
   },
   {
    "duration": 9,
    "start_time": "2021-08-29T18:53:15.861Z"
   },
   {
    "duration": 1341,
    "start_time": "2021-08-29T18:53:22.006Z"
   },
   {
    "duration": 125,
    "start_time": "2021-08-29T18:53:23.349Z"
   },
   {
    "duration": 3690,
    "start_time": "2021-08-29T18:53:23.476Z"
   },
   {
    "duration": 4093,
    "start_time": "2021-08-29T18:53:27.168Z"
   },
   {
    "duration": 1512,
    "start_time": "2021-08-29T18:53:31.263Z"
   },
   {
    "duration": 19,
    "start_time": "2021-08-29T18:53:32.778Z"
   },
   {
    "duration": 218,
    "start_time": "2021-08-29T18:53:32.800Z"
   },
   {
    "duration": 523,
    "start_time": "2021-08-29T18:53:33.094Z"
   },
   {
    "duration": 8,
    "start_time": "2021-08-29T18:53:33.619Z"
   },
   {
    "duration": 1185,
    "start_time": "2021-08-29T18:53:33.629Z"
   },
   {
    "duration": 1697,
    "start_time": "2021-08-29T18:53:48.283Z"
   },
   {
    "duration": 157,
    "start_time": "2021-08-29T18:53:49.982Z"
   },
   {
    "duration": 3187,
    "start_time": "2021-08-29T18:53:50.141Z"
   },
   {
    "duration": 4302,
    "start_time": "2021-08-29T18:53:53.330Z"
   },
   {
    "duration": 1633,
    "start_time": "2021-08-29T18:53:57.634Z"
   },
   {
    "duration": 21,
    "start_time": "2021-08-29T18:53:59.269Z"
   },
   {
    "duration": 215,
    "start_time": "2021-08-29T18:53:59.293Z"
   },
   {
    "duration": 435,
    "start_time": "2021-08-29T18:53:59.511Z"
   },
   {
    "duration": 5,
    "start_time": "2021-08-29T18:53:59.948Z"
   },
   {
    "duration": 1453,
    "start_time": "2021-08-29T18:53:59.955Z"
   },
   {
    "duration": 354,
    "start_time": "2021-08-29T19:00:52.987Z"
   },
   {
    "duration": 250,
    "start_time": "2021-08-29T19:02:11.027Z"
   },
   {
    "duration": 421,
    "start_time": "2021-08-29T19:02:54.320Z"
   },
   {
    "duration": 6,
    "start_time": "2021-08-29T19:03:25.061Z"
   },
   {
    "duration": 1657,
    "start_time": "2021-08-30T07:01:19.453Z"
   },
   {
    "duration": 233,
    "start_time": "2021-08-30T07:01:21.113Z"
   },
   {
    "duration": 4817,
    "start_time": "2021-08-30T07:01:21.349Z"
   },
   {
    "duration": 5668,
    "start_time": "2021-08-30T07:01:26.169Z"
   },
   {
    "duration": 1663,
    "start_time": "2021-08-30T07:01:31.839Z"
   },
   {
    "duration": 9,
    "start_time": "2021-08-30T07:01:33.505Z"
   },
   {
    "duration": 355,
    "start_time": "2021-08-30T07:01:33.517Z"
   },
   {
    "duration": 509,
    "start_time": "2021-08-30T07:01:33.877Z"
   },
   {
    "duration": 449,
    "start_time": "2021-08-30T07:01:34.388Z"
   },
   {
    "duration": 192423,
    "start_time": "2021-08-30T06:58:22.416Z"
   },
   {
    "duration": 192415,
    "start_time": "2021-08-30T06:58:22.426Z"
   },
   {
    "duration": 192410,
    "start_time": "2021-08-30T06:58:22.432Z"
   },
   {
    "duration": 26,
    "start_time": "2021-08-30T07:02:53.080Z"
   },
   {
    "duration": 31,
    "start_time": "2021-08-30T07:04:15.863Z"
   },
   {
    "duration": 9,
    "start_time": "2021-08-30T07:05:44.415Z"
   },
   {
    "duration": 1658,
    "start_time": "2021-08-30T07:05:45.734Z"
   },
   {
    "duration": 626,
    "start_time": "2021-08-30T07:05:51.624Z"
   },
   {
    "duration": 2123,
    "start_time": "2021-08-30T07:06:24.712Z"
   },
   {
    "duration": 1849,
    "start_time": "2021-08-30T07:06:52.834Z"
   },
   {
    "duration": 637,
    "start_time": "2021-08-30T07:07:00.695Z"
   },
   {
    "duration": 1949,
    "start_time": "2021-08-30T07:07:03.539Z"
   },
   {
    "duration": 606,
    "start_time": "2021-08-30T07:07:09.840Z"
   },
   {
    "duration": 8,
    "start_time": "2021-08-30T07:19:36.600Z"
   },
   {
    "duration": 1776,
    "start_time": "2021-08-30T07:19:37.920Z"
   },
   {
    "duration": 1566,
    "start_time": "2021-08-30T07:23:27.920Z"
   },
   {
    "duration": 652,
    "start_time": "2021-08-30T08:49:43.479Z"
   },
   {
    "duration": 720,
    "start_time": "2021-08-30T11:03:28.198Z"
   },
   {
    "duration": 8,
    "start_time": "2021-08-30T11:03:53.950Z"
   },
   {
    "duration": 12,
    "start_time": "2021-08-30T11:04:08.878Z"
   },
   {
    "duration": 11,
    "start_time": "2021-08-30T11:04:33.554Z"
   },
   {
    "duration": 6,
    "start_time": "2021-08-30T11:05:27.932Z"
   },
   {
    "duration": 6,
    "start_time": "2021-08-30T11:05:29.506Z"
   },
   {
    "duration": 10,
    "start_time": "2021-08-30T11:06:37.012Z"
   },
   {
    "duration": 1276,
    "start_time": "2021-08-30T11:07:29.188Z"
   },
   {
    "duration": 10,
    "start_time": "2021-08-30T11:07:52.531Z"
   },
   {
    "duration": 8,
    "start_time": "2021-08-30T11:08:01.635Z"
   },
   {
    "duration": 6017,
    "start_time": "2021-08-30T11:08:53.628Z"
   },
   {
    "duration": 7,
    "start_time": "2021-08-30T11:09:17.212Z"
   },
   {
    "duration": 9,
    "start_time": "2021-08-30T11:09:26.508Z"
   },
   {
    "duration": 177,
    "start_time": "2021-08-30T12:02:14.093Z"
   },
   {
    "duration": 241,
    "start_time": "2021-08-30T12:02:37.535Z"
   },
   {
    "duration": 236,
    "start_time": "2021-08-30T12:02:57.031Z"
   },
   {
    "duration": 403,
    "start_time": "2021-08-30T12:07:39.508Z"
   },
   {
    "duration": 173,
    "start_time": "2021-08-30T12:07:45.398Z"
   },
   {
    "duration": 249,
    "start_time": "2021-08-30T12:08:14.914Z"
   },
   {
    "duration": 501,
    "start_time": "2021-08-30T12:08:38.429Z"
   },
   {
    "duration": 496,
    "start_time": "2021-08-30T12:08:50.617Z"
   },
   {
    "duration": 32,
    "start_time": "2021-08-30T12:16:25.535Z"
   },
   {
    "duration": 133591,
    "start_time": "2021-08-30T12:21:20.389Z"
   },
   {
    "duration": 337,
    "start_time": "2021-08-30T12:42:18.320Z"
   },
   {
    "duration": 380,
    "start_time": "2021-08-30T12:43:12.988Z"
   },
   {
    "duration": 7803,
    "start_time": "2021-08-30T12:43:21.538Z"
   },
   {
    "duration": 7576,
    "start_time": "2021-08-30T12:47:54.140Z"
   },
   {
    "duration": 431,
    "start_time": "2021-08-30T12:53:57.838Z"
   },
   {
    "duration": 1376,
    "start_time": "2021-08-30T12:54:20.026Z"
   },
   {
    "duration": 2565,
    "start_time": "2021-08-30T12:54:42.031Z"
   },
   {
    "duration": 352,
    "start_time": "2021-08-30T12:56:04.112Z"
   },
   {
    "duration": 1055,
    "start_time": "2021-08-30T12:59:40.491Z"
   },
   {
    "duration": 1053,
    "start_time": "2021-08-30T12:59:51.559Z"
   },
   {
    "duration": 860,
    "start_time": "2021-08-30T13:00:15.836Z"
   },
   {
    "duration": 1052,
    "start_time": "2021-08-30T13:00:25.053Z"
   },
   {
    "duration": 18129,
    "start_time": "2021-08-30T13:00:43.342Z"
   },
   {
    "duration": 294,
    "start_time": "2021-08-30T13:01:55.758Z"
   },
   {
    "duration": 779,
    "start_time": "2021-08-30T13:02:38.908Z"
   },
   {
    "duration": 1098,
    "start_time": "2021-08-30T13:03:01.876Z"
   },
   {
    "duration": 12723,
    "start_time": "2021-08-30T13:03:44.357Z"
   },
   {
    "duration": 13054,
    "start_time": "2021-08-30T13:04:19.700Z"
   },
   {
    "duration": 13049,
    "start_time": "2021-08-30T13:05:29.580Z"
   },
   {
    "duration": 13078,
    "start_time": "2021-08-30T13:05:51.052Z"
   },
   {
    "duration": 980,
    "start_time": "2021-08-30T13:07:57.614Z"
   },
   {
    "duration": 18858,
    "start_time": "2021-08-30T13:08:26.212Z"
   },
   {
    "duration": 153,
    "start_time": "2021-08-30T13:11:45.198Z"
   },
   {
    "duration": 300,
    "start_time": "2021-08-30T13:11:55.855Z"
   },
   {
    "duration": 821,
    "start_time": "2021-08-30T13:13:05.310Z"
   },
   {
    "duration": 416,
    "start_time": "2021-08-30T13:13:13.303Z"
   },
   {
    "duration": 7697,
    "start_time": "2021-08-30T13:14:31.715Z"
   },
   {
    "duration": 111,
    "start_time": "2021-08-30T13:15:41.771Z"
   },
   {
    "duration": 122,
    "start_time": "2021-08-30T13:15:46.012Z"
   },
   {
    "duration": 322,
    "start_time": "2021-08-30T13:15:55.813Z"
   },
   {
    "duration": 340,
    "start_time": "2021-08-30T13:16:01.308Z"
   },
   {
    "duration": 1311,
    "start_time": "2021-08-30T13:16:37.419Z"
   },
   {
    "duration": 10,
    "start_time": "2021-08-30T13:16:46.330Z"
   },
   {
    "duration": 10,
    "start_time": "2021-08-30T13:24:10.987Z"
   },
   {
    "duration": 337,
    "start_time": "2021-08-30T13:24:24.093Z"
   },
   {
    "duration": 10,
    "start_time": "2021-08-30T13:24:29.468Z"
   },
   {
    "duration": 10,
    "start_time": "2021-08-30T13:24:42.157Z"
   },
   {
    "duration": 10,
    "start_time": "2021-08-30T13:24:48.572Z"
   },
   {
    "duration": 1719,
    "start_time": "2021-08-30T16:53:51.203Z"
   },
   {
    "duration": 235,
    "start_time": "2021-08-30T16:53:52.926Z"
   },
   {
    "duration": 4997,
    "start_time": "2021-08-30T16:53:53.165Z"
   },
   {
    "duration": 5319,
    "start_time": "2021-08-30T16:53:58.165Z"
   },
   {
    "duration": 1657,
    "start_time": "2021-08-30T16:54:03.486Z"
   },
   {
    "duration": 21,
    "start_time": "2021-08-30T16:54:05.145Z"
   },
   {
    "duration": 300,
    "start_time": "2021-08-30T16:54:05.168Z"
   },
   {
    "duration": 529,
    "start_time": "2021-08-30T16:54:05.472Z"
   },
   {
    "duration": 33,
    "start_time": "2021-08-30T16:54:06.004Z"
   },
   {
    "duration": 1347,
    "start_time": "2021-08-30T18:52:43.278Z"
   },
   {
    "duration": 135,
    "start_time": "2021-08-30T18:52:44.626Z"
   },
   {
    "duration": 3415,
    "start_time": "2021-08-30T18:52:44.763Z"
   },
   {
    "duration": 4469,
    "start_time": "2021-08-30T18:52:48.180Z"
   },
   {
    "duration": 1167,
    "start_time": "2021-08-30T18:52:52.651Z"
   },
   {
    "duration": 21,
    "start_time": "2021-08-30T18:52:53.820Z"
   },
   {
    "duration": 301,
    "start_time": "2021-08-30T18:52:53.844Z"
   },
   {
    "duration": 380,
    "start_time": "2021-08-30T18:52:54.147Z"
   },
   {
    "duration": 26,
    "start_time": "2021-08-30T18:52:54.529Z"
   },
   {
    "duration": 89444,
    "start_time": "2021-08-30T18:52:54.557Z"
   },
   {
    "duration": 1553,
    "start_time": "2021-08-30T18:54:24.003Z"
   },
   {
    "duration": 568,
    "start_time": "2021-08-30T18:54:25.559Z"
   },
   {
    "duration": 18,
    "start_time": "2021-08-30T18:54:26.129Z"
   },
   {
    "duration": 1309,
    "start_time": "2021-11-03T14:59:03.961Z"
   },
   {
    "duration": 135,
    "start_time": "2021-11-03T14:59:05.272Z"
   },
   {
    "duration": 3132,
    "start_time": "2021-11-03T14:59:05.410Z"
   },
   {
    "duration": 4126,
    "start_time": "2021-11-03T14:59:08.545Z"
   },
   {
    "duration": 1185,
    "start_time": "2021-11-03T14:59:12.673Z"
   },
   {
    "duration": 8,
    "start_time": "2021-11-03T14:59:13.859Z"
   },
   {
    "duration": 295,
    "start_time": "2021-11-03T14:59:13.869Z"
   },
   {
    "duration": 368,
    "start_time": "2021-11-03T14:59:14.167Z"
   },
   {
    "duration": 34,
    "start_time": "2021-11-03T14:59:14.538Z"
   },
   {
    "duration": 1223,
    "start_time": "2021-11-03T15:00:28.359Z"
   },
   {
    "duration": 85,
    "start_time": "2021-11-03T15:00:29.584Z"
   },
   {
    "duration": 135,
    "start_time": "2021-11-03T15:00:29.671Z"
   },
   {
    "duration": 3212,
    "start_time": "2021-11-03T15:00:29.808Z"
   },
   {
    "duration": 4190,
    "start_time": "2021-11-03T15:00:33.022Z"
   },
   {
    "duration": 1188,
    "start_time": "2021-11-03T15:00:37.214Z"
   },
   {
    "duration": 8,
    "start_time": "2021-11-03T15:00:38.404Z"
   },
   {
    "duration": 351,
    "start_time": "2021-11-03T15:00:38.414Z"
   },
   {
    "duration": 375,
    "start_time": "2021-11-03T15:00:38.768Z"
   },
   {
    "duration": 30,
    "start_time": "2021-11-03T15:00:39.145Z"
   },
   {
    "duration": 84525,
    "start_time": "2021-11-03T15:00:39.177Z"
   },
   {
    "duration": 960,
    "start_time": "2021-11-03T15:02:03.704Z"
   },
   {
    "duration": 661,
    "start_time": "2021-11-03T15:02:04.666Z"
   },
   {
    "duration": 8,
    "start_time": "2021-11-03T15:02:05.329Z"
   },
   {
    "duration": 79,
    "start_time": "2021-11-03T15:12:35.215Z"
   },
   {
    "duration": 1248,
    "start_time": "2021-11-03T15:22:31.449Z"
   },
   {
    "duration": 82,
    "start_time": "2021-11-03T15:22:32.699Z"
   },
   {
    "duration": 137,
    "start_time": "2021-11-03T15:22:32.784Z"
   },
   {
    "duration": 3245,
    "start_time": "2021-11-03T15:22:32.924Z"
   },
   {
    "duration": 4438,
    "start_time": "2021-11-03T15:22:36.171Z"
   },
   {
    "duration": 1201,
    "start_time": "2021-11-03T15:22:40.610Z"
   },
   {
    "duration": 7,
    "start_time": "2021-11-03T15:22:41.813Z"
   },
   {
    "duration": 341,
    "start_time": "2021-11-03T15:22:41.822Z"
   },
   {
    "duration": 373,
    "start_time": "2021-11-03T15:22:42.167Z"
   },
   {
    "duration": 29,
    "start_time": "2021-11-03T15:22:42.542Z"
   },
   {
    "duration": 86508,
    "start_time": "2021-11-03T15:22:42.573Z"
   },
   {
    "duration": 1688,
    "start_time": "2021-11-03T15:24:09.083Z"
   },
   {
    "duration": 578,
    "start_time": "2021-11-03T15:24:10.773Z"
   },
   {
    "duration": 13,
    "start_time": "2021-11-03T15:24:11.353Z"
   }
  ],
  "kernelspec": {
   "display_name": "Python 3",
   "language": "python",
   "name": "python3"
  },
  "language_info": {
   "codemirror_mode": {
    "name": "ipython",
    "version": 3
   },
   "file_extension": ".py",
   "mimetype": "text/x-python",
   "name": "python",
   "nbconvert_exporter": "python",
   "pygments_lexer": "ipython3",
   "version": "3.7.8"
  },
  "toc": {
   "base_numbering": 1,
   "nav_menu": {},
   "number_sections": true,
   "sideBar": true,
   "skip_h1_title": true,
   "title_cell": "Table of Contents",
   "title_sidebar": "Contents",
   "toc_cell": false,
   "toc_position": {
    "height": "calc(100% - 180px)",
    "left": "10px",
    "top": "150px",
    "width": "305.067px"
   },
   "toc_section_display": true,
   "toc_window_display": false
  }
 },
 "nbformat": 4,
 "nbformat_minor": 2
}
